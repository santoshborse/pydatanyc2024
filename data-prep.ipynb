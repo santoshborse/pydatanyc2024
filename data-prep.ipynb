{
  "cells": [
    {
      "cell_type": "markdown",
      "source": [
        "Open this notebook in Google Colab: [![Open In Colab](https://colab.research.google.com/assets/colab-badge.svg)](https://colab.research.google.com/github/santoshborse/pydatanyc2024/blob/main/data-prep.ipynb)"
      ],
      "metadata": {
        "id": "vKW0uQwe8cBb"
      }
    },
    {
      "cell_type": "markdown",
      "source": [
        "### 1 - Setup\n"
      ],
      "metadata": {
        "id": "FiIpqn5OF13Q"
      }
    },
    {
      "cell_type": "code",
      "source": [
        "import os\n",
        "\n",
        "if os.getenv(\"COLAB_RELEASE_TAG\"):\n",
        "   print(\"Running in Colab\")\n",
        "   RUNNING_IN_COLAB = True\n",
        "else:\n",
        "   print(\"NOT in Colab\")\n",
        "   RUNNING_IN_COLAB = False\n",
        "!wget -O 'my_utils.py' 'https://raw.githubusercontent.com/sujee/data-prep-kit/intro-example1/examples/notebooks/intro/my_utils.py'"
      ],
      "metadata": {
        "id": "lQNifQpW-rS9",
        "outputId": "686bf633-1db9-4212-c3ae-44a1da5aa866",
        "colab": {
          "base_uri": "https://localhost:8080/"
        }
      },
      "execution_count": 2,
      "outputs": [
        {
          "output_type": "stream",
          "name": "stdout",
          "text": [
            "Running in Colab\n",
            "--2024-10-30 20:15:01--  https://raw.githubusercontent.com/sujee/data-prep-kit/intro-example1/examples/notebooks/intro/my_utils.py\n",
            "Resolving raw.githubusercontent.com (raw.githubusercontent.com)... 185.199.108.133, 185.199.110.133, 185.199.111.133, ...\n",
            "Connecting to raw.githubusercontent.com (raw.githubusercontent.com)|185.199.108.133|:443... connected.\n",
            "HTTP request sent, awaiting response... 200 OK\n",
            "Length: 1856 (1.8K) [text/plain]\n",
            "Saving to: ‘my_utils.py’\n",
            "\n",
            "my_utils.py         100%[===================>]   1.81K  --.-KB/s    in 0s      \n",
            "\n",
            "2024-10-30 20:15:01 (22.8 MB/s) - ‘my_utils.py’ saved [1856/1856]\n",
            "\n"
          ]
        }
      ]
    },
    {
      "cell_type": "markdown",
      "source": [
        "### 2. Install required Packages"
      ],
      "metadata": {
        "id": "KtwjEDWGGAJ_"
      }
    },
    {
      "cell_type": "code",
      "source": [
        "!pip install ipykernel datasets humanfriendly\n",
        "!pip3 install 'data-prep-toolkit[ray]==0.2.2.dev1'"
      ],
      "metadata": {
        "id": "q70ngCxQ9sHr",
        "outputId": "adbe938b-6126-4ed6-e294-1d0664b377ca",
        "colab": {
          "base_uri": "https://localhost:8080/"
        }
      },
      "execution_count": 13,
      "outputs": [
        {
          "output_type": "stream",
          "name": "stdout",
          "text": [
            "Requirement already satisfied: ipykernel in /usr/local/lib/python3.10/dist-packages (5.5.6)\n",
            "Requirement already satisfied: datasets in /usr/local/lib/python3.10/dist-packages (3.0.2)\n",
            "Requirement already satisfied: humanfriendly in /usr/local/lib/python3.10/dist-packages (10.0)\n",
            "Requirement already satisfied: ipython-genutils in /usr/local/lib/python3.10/dist-packages (from ipykernel) (0.2.0)\n",
            "Requirement already satisfied: ipython>=5.0.0 in /usr/local/lib/python3.10/dist-packages (from ipykernel) (7.34.0)\n",
            "Requirement already satisfied: traitlets>=4.1.0 in /usr/local/lib/python3.10/dist-packages (from ipykernel) (5.7.1)\n",
            "Requirement already satisfied: jupyter-client in /usr/local/lib/python3.10/dist-packages (from ipykernel) (6.1.12)\n",
            "Requirement already satisfied: tornado>=4.2 in /usr/local/lib/python3.10/dist-packages (from ipykernel) (6.3.3)\n",
            "Requirement already satisfied: filelock in /usr/local/lib/python3.10/dist-packages (from datasets) (3.16.1)\n",
            "Requirement already satisfied: numpy>=1.17 in /usr/local/lib/python3.10/dist-packages (from datasets) (1.26.4)\n",
            "Requirement already satisfied: pyarrow>=15.0.0 in /usr/local/lib/python3.10/dist-packages (from datasets) (16.1.0)\n",
            "Requirement already satisfied: dill<0.3.9,>=0.3.0 in /usr/local/lib/python3.10/dist-packages (from datasets) (0.3.8)\n",
            "Requirement already satisfied: pandas in /usr/local/lib/python3.10/dist-packages (from datasets) (2.2.2)\n",
            "Requirement already satisfied: requests>=2.32.2 in /usr/local/lib/python3.10/dist-packages (from datasets) (2.32.3)\n",
            "Requirement already satisfied: tqdm>=4.66.3 in /usr/local/lib/python3.10/dist-packages (from datasets) (4.66.5)\n",
            "Requirement already satisfied: xxhash in /usr/local/lib/python3.10/dist-packages (from datasets) (3.5.0)\n",
            "Requirement already satisfied: multiprocess<0.70.17 in /usr/local/lib/python3.10/dist-packages (from datasets) (0.70.16)\n",
            "Requirement already satisfied: fsspec<=2024.9.0,>=2023.1.0 in /usr/local/lib/python3.10/dist-packages (from fsspec[http]<=2024.9.0,>=2023.1.0->datasets) (2024.6.1)\n",
            "Requirement already satisfied: aiohttp in /usr/local/lib/python3.10/dist-packages (from datasets) (3.10.10)\n",
            "Requirement already satisfied: huggingface-hub>=0.23.0 in /usr/local/lib/python3.10/dist-packages (from datasets) (0.24.7)\n",
            "Requirement already satisfied: packaging in /usr/local/lib/python3.10/dist-packages (from datasets) (24.1)\n",
            "Requirement already satisfied: pyyaml>=5.1 in /usr/local/lib/python3.10/dist-packages (from datasets) (6.0.2)\n",
            "Requirement already satisfied: aiohappyeyeballs>=2.3.0 in /usr/local/lib/python3.10/dist-packages (from aiohttp->datasets) (2.4.3)\n",
            "Requirement already satisfied: aiosignal>=1.1.2 in /usr/local/lib/python3.10/dist-packages (from aiohttp->datasets) (1.3.1)\n",
            "Requirement already satisfied: attrs>=17.3.0 in /usr/local/lib/python3.10/dist-packages (from aiohttp->datasets) (24.2.0)\n",
            "Requirement already satisfied: frozenlist>=1.1.1 in /usr/local/lib/python3.10/dist-packages (from aiohttp->datasets) (1.5.0)\n",
            "Requirement already satisfied: multidict<7.0,>=4.5 in /usr/local/lib/python3.10/dist-packages (from aiohttp->datasets) (6.1.0)\n",
            "Requirement already satisfied: yarl<2.0,>=1.12.0 in /usr/local/lib/python3.10/dist-packages (from aiohttp->datasets) (1.16.0)\n",
            "Requirement already satisfied: async-timeout<5.0,>=4.0 in /usr/local/lib/python3.10/dist-packages (from aiohttp->datasets) (4.0.3)\n",
            "Requirement already satisfied: typing-extensions>=3.7.4.3 in /usr/local/lib/python3.10/dist-packages (from huggingface-hub>=0.23.0->datasets) (4.12.2)\n",
            "Requirement already satisfied: setuptools>=18.5 in /usr/local/lib/python3.10/dist-packages (from ipython>=5.0.0->ipykernel) (75.1.0)\n",
            "Requirement already satisfied: jedi>=0.16 in /usr/local/lib/python3.10/dist-packages (from ipython>=5.0.0->ipykernel) (0.19.1)\n",
            "Requirement already satisfied: decorator in /usr/local/lib/python3.10/dist-packages (from ipython>=5.0.0->ipykernel) (4.4.2)\n",
            "Requirement already satisfied: pickleshare in /usr/local/lib/python3.10/dist-packages (from ipython>=5.0.0->ipykernel) (0.7.5)\n",
            "Requirement already satisfied: prompt-toolkit!=3.0.0,!=3.0.1,<3.1.0,>=2.0.0 in /usr/local/lib/python3.10/dist-packages (from ipython>=5.0.0->ipykernel) (3.0.48)\n",
            "Requirement already satisfied: pygments in /usr/local/lib/python3.10/dist-packages (from ipython>=5.0.0->ipykernel) (2.18.0)\n",
            "Requirement already satisfied: backcall in /usr/local/lib/python3.10/dist-packages (from ipython>=5.0.0->ipykernel) (0.2.0)\n",
            "Requirement already satisfied: matplotlib-inline in /usr/local/lib/python3.10/dist-packages (from ipython>=5.0.0->ipykernel) (0.1.7)\n",
            "Requirement already satisfied: pexpect>4.3 in /usr/local/lib/python3.10/dist-packages (from ipython>=5.0.0->ipykernel) (4.9.0)\n",
            "Requirement already satisfied: charset-normalizer<4,>=2 in /usr/local/lib/python3.10/dist-packages (from requests>=2.32.2->datasets) (3.4.0)\n",
            "Requirement already satisfied: idna<4,>=2.5 in /usr/local/lib/python3.10/dist-packages (from requests>=2.32.2->datasets) (3.10)\n",
            "Requirement already satisfied: urllib3<3,>=1.21.1 in /usr/local/lib/python3.10/dist-packages (from requests>=2.32.2->datasets) (2.2.3)\n",
            "Requirement already satisfied: certifi>=2017.4.17 in /usr/local/lib/python3.10/dist-packages (from requests>=2.32.2->datasets) (2024.8.30)\n",
            "Requirement already satisfied: jupyter-core>=4.6.0 in /usr/local/lib/python3.10/dist-packages (from jupyter-client->ipykernel) (5.7.2)\n",
            "Requirement already satisfied: pyzmq>=13 in /usr/local/lib/python3.10/dist-packages (from jupyter-client->ipykernel) (24.0.1)\n",
            "Requirement already satisfied: python-dateutil>=2.1 in /usr/local/lib/python3.10/dist-packages (from jupyter-client->ipykernel) (2.8.2)\n",
            "Requirement already satisfied: pytz>=2020.1 in /usr/local/lib/python3.10/dist-packages (from pandas->datasets) (2024.2)\n",
            "Requirement already satisfied: tzdata>=2022.7 in /usr/local/lib/python3.10/dist-packages (from pandas->datasets) (2024.2)\n",
            "Requirement already satisfied: parso<0.9.0,>=0.8.3 in /usr/local/lib/python3.10/dist-packages (from jedi>=0.16->ipython>=5.0.0->ipykernel) (0.8.4)\n",
            "Requirement already satisfied: platformdirs>=2.5 in /usr/local/lib/python3.10/dist-packages (from jupyter-core>=4.6.0->jupyter-client->ipykernel) (4.3.6)\n",
            "Requirement already satisfied: ptyprocess>=0.5 in /usr/local/lib/python3.10/dist-packages (from pexpect>4.3->ipython>=5.0.0->ipykernel) (0.7.0)\n",
            "Requirement already satisfied: wcwidth in /usr/local/lib/python3.10/dist-packages (from prompt-toolkit!=3.0.0,!=3.0.1,<3.1.0,>=2.0.0->ipython>=5.0.0->ipykernel) (0.2.13)\n",
            "Requirement already satisfied: six>=1.5 in /usr/local/lib/python3.10/dist-packages (from python-dateutil>=2.1->jupyter-client->ipykernel) (1.16.0)\n",
            "Requirement already satisfied: propcache>=0.2.0 in /usr/local/lib/python3.10/dist-packages (from yarl<2.0,>=1.12.0->aiohttp->datasets) (0.2.0)\n"
          ]
        }
      ]
    },
    {
      "cell_type": "code",
      "source": [],
      "metadata": {
        "id": "moJXRqJNIgwn",
        "outputId": "f4d52f4f-1013-46fc-d4cc-bf7a299dd786",
        "colab": {
          "base_uri": "https://localhost:8080/",
          "height": 510
        }
      },
      "execution_count": 16,
      "outputs": [
        {
          "output_type": "stream",
          "name": "stdout",
          "text": [
            "Collecting data-prep-toolkit-transforms==0.2.2.dev1 (from data-prep-toolkit-transforms[resize]==0.2.2.dev1)\n",
            "  Downloading data_prep_toolkit_transforms-0.2.2.dev1-py3-none-any.whl.metadata (8.2 kB)\n",
            "Requirement already satisfied: data-prep-toolkit>=0.2.2.dev1 in /usr/local/lib/python3.10/dist-packages (from data-prep-toolkit-transforms==0.2.2.dev1->data-prep-toolkit-transforms[resize]==0.2.2.dev1) (0.2.2.dev1)\n",
            "Requirement already satisfied: numpy<1.29.0 in /usr/local/lib/python3.10/dist-packages (from data-prep-toolkit>=0.2.2.dev1->data-prep-toolkit-transforms==0.2.2.dev1->data-prep-toolkit-transforms[resize]==0.2.2.dev1) (1.26.4)\n",
            "Requirement already satisfied: pyarrow==16.1.0 in /usr/local/lib/python3.10/dist-packages (from data-prep-toolkit>=0.2.2.dev1->data-prep-toolkit-transforms==0.2.2.dev1->data-prep-toolkit-transforms[resize]==0.2.2.dev1) (16.1.0)\n",
            "Requirement already satisfied: boto3==1.34.69 in /usr/local/lib/python3.10/dist-packages (from data-prep-toolkit>=0.2.2.dev1->data-prep-toolkit-transforms==0.2.2.dev1->data-prep-toolkit-transforms[resize]==0.2.2.dev1) (1.34.69)\n",
            "Collecting argparse (from data-prep-toolkit>=0.2.2.dev1->data-prep-toolkit-transforms==0.2.2.dev1->data-prep-toolkit-transforms[resize]==0.2.2.dev1)\n",
            "  Using cached argparse-1.4.0-py2.py3-none-any.whl.metadata (2.8 kB)\n",
            "Requirement already satisfied: mmh3 in /usr/local/lib/python3.10/dist-packages (from data-prep-toolkit>=0.2.2.dev1->data-prep-toolkit-transforms==0.2.2.dev1->data-prep-toolkit-transforms[resize]==0.2.2.dev1) (5.0.1)\n",
            "Requirement already satisfied: psutil in /usr/local/lib/python3.10/dist-packages (from data-prep-toolkit>=0.2.2.dev1->data-prep-toolkit-transforms==0.2.2.dev1->data-prep-toolkit-transforms[resize]==0.2.2.dev1) (5.9.5)\n",
            "Requirement already satisfied: botocore<1.35.0,>=1.34.69 in /usr/local/lib/python3.10/dist-packages (from boto3==1.34.69->data-prep-toolkit>=0.2.2.dev1->data-prep-toolkit-transforms==0.2.2.dev1->data-prep-toolkit-transforms[resize]==0.2.2.dev1) (1.34.162)\n",
            "Requirement already satisfied: jmespath<2.0.0,>=0.7.1 in /usr/local/lib/python3.10/dist-packages (from boto3==1.34.69->data-prep-toolkit>=0.2.2.dev1->data-prep-toolkit-transforms==0.2.2.dev1->data-prep-toolkit-transforms[resize]==0.2.2.dev1) (1.0.1)\n",
            "Requirement already satisfied: s3transfer<0.11.0,>=0.10.0 in /usr/local/lib/python3.10/dist-packages (from boto3==1.34.69->data-prep-toolkit>=0.2.2.dev1->data-prep-toolkit-transforms==0.2.2.dev1->data-prep-toolkit-transforms[resize]==0.2.2.dev1) (0.10.3)\n",
            "Requirement already satisfied: python-dateutil<3.0.0,>=2.1 in /usr/local/lib/python3.10/dist-packages (from botocore<1.35.0,>=1.34.69->boto3==1.34.69->data-prep-toolkit>=0.2.2.dev1->data-prep-toolkit-transforms==0.2.2.dev1->data-prep-toolkit-transforms[resize]==0.2.2.dev1) (2.8.2)\n",
            "Requirement already satisfied: urllib3!=2.2.0,<3,>=1.25.4 in /usr/local/lib/python3.10/dist-packages (from botocore<1.35.0,>=1.34.69->boto3==1.34.69->data-prep-toolkit>=0.2.2.dev1->data-prep-toolkit-transforms==0.2.2.dev1->data-prep-toolkit-transforms[resize]==0.2.2.dev1) (2.2.3)\n",
            "Requirement already satisfied: six>=1.5 in /usr/local/lib/python3.10/dist-packages (from python-dateutil<3.0.0,>=2.1->botocore<1.35.0,>=1.34.69->boto3==1.34.69->data-prep-toolkit>=0.2.2.dev1->data-prep-toolkit-transforms==0.2.2.dev1->data-prep-toolkit-transforms[resize]==0.2.2.dev1) (1.16.0)\n",
            "Downloading data_prep_toolkit_transforms-0.2.2.dev1-py3-none-any.whl (275 kB)\n",
            "\u001b[2K   \u001b[90m━━━━━━━━━━━━━━━━━━━━━━━━━━━━━━━━━━━━━━━━\u001b[0m \u001b[32m275.2/275.2 kB\u001b[0m \u001b[31m15.2 MB/s\u001b[0m eta \u001b[36m0:00:00\u001b[0m\n",
            "\u001b[?25hUsing cached argparse-1.4.0-py2.py3-none-any.whl (23 kB)\n",
            "Installing collected packages: argparse, data-prep-toolkit-transforms\n",
            "Successfully installed argparse-1.4.0 data-prep-toolkit-transforms-0.2.2.dev1\n"
          ]
        },
        {
          "output_type": "display_data",
          "data": {
            "application/vnd.colab-display-data+json": {
              "pip_warning": {
                "packages": [
                  "argparse"
                ]
              },
              "id": "4cd0a151728c474d9dfdb6e1732247d5"
            }
          },
          "metadata": {}
        }
      ]
    },
    {
      "cell_type": "code",
      "source": [],
      "metadata": {
        "id": "NEs4HMZmGeWh"
      },
      "execution_count": null,
      "outputs": []
    },
    {
      "cell_type": "code",
      "source": [],
      "metadata": {
        "id": "w7wJ4Tf1-qkl"
      },
      "execution_count": null,
      "outputs": []
    },
    {
      "cell_type": "markdown",
      "source": [
        "###"
      ],
      "metadata": {
        "id": "DBI3NyjkGOuO"
      }
    },
    {
      "cell_type": "code",
      "source": [
        "from huggingface_hub import hf_hub_download\n",
        "!mkdir -p 'yelp-dataset'\n",
        "hf_hub_download(repo_type=\"dataset\", repo_id=\"yelp/yelp_review_full\", filename=\"yelp_review_full/test-00000-of-00001.parquet\", local_dir=\"./yelp-dataset\")\n",
        "hf_hub_download(repo_type=\"dataset\", repo_id=\"yelp/yelp_review_full\", filename=\"yelp_review_full/train-00000-of-00001.parquet\", local_dir=\"./yelp-dataset\")\n",
        "input_folder = \"yelp-dataset/yelp_review_full\"\n"
      ],
      "metadata": {
        "id": "Yz1uVUWt-FlQ"
      },
      "execution_count": 3,
      "outputs": []
    },
    {
      "cell_type": "code",
      "source": [
        "\n"
      ],
      "metadata": {
        "id": "SbQSH0RS_V6J",
        "outputId": "6b0f72ec-846e-42c9-eaf7-1946b102d63b",
        "colab": {
          "base_uri": "https://localhost:8080/"
        }
      },
      "execution_count": 11,
      "outputs": [
        {
          "output_type": "stream",
          "name": "stderr",
          "text": [
            "/usr/local/lib/python3.10/dist-packages/huggingface_hub/utils/_token.py:89: UserWarning: \n",
            "The secret `HF_TOKEN` does not exist in your Colab secrets.\n",
            "To authenticate with the Hugging Face Hub, create a token in your settings tab (https://huggingface.co/settings/tokens), set it as secret in your Google Colab and restart your session.\n",
            "You will be able to reuse this secret in all of your notebooks.\n",
            "Please note that authentication is recommended but still optional to access public models or datasets.\n",
            "  warnings.warn(\n"
          ]
        }
      ]
    },
    {
      "cell_type": "markdown",
      "source": [
        "### 3 - Inspect input\n"
      ],
      "metadata": {
        "id": "TE792OKkCza3"
      }
    },
    {
      "cell_type": "code",
      "source": [
        "from my_utils import read_parquet_files_as_df\n",
        "\n",
        "output_df = read_parquet_files_as_df(input_folder)\n",
        "\n",
        "print (\"Output dimensions (rows x columns)= \", output_df.shape)\n",
        "\n",
        "output_df.head(5)"
      ],
      "metadata": {
        "id": "ftKX2b_oCz1x",
        "outputId": "f83835b6-ea5b-4280-b91d-76136715b0c1",
        "colab": {
          "base_uri": "https://localhost:8080/",
          "height": 224
        }
      },
      "execution_count": 12,
      "outputs": [
        {
          "output_type": "stream",
          "name": "stdout",
          "text": [
            "Output dimensions (rows x columns)=  (700000, 2)\n"
          ]
        },
        {
          "output_type": "execute_result",
          "data": {
            "text/plain": [
              "   label                                               text\n",
              "0      0  I got 'new' tires from them and within two wee...\n",
              "1      0  Don't waste your time.  We had two different p...\n",
              "2      0  All I can say is the worst! We were the only 2...\n",
              "3      0  I have been to this restaurant twice and was d...\n",
              "4      0  Food was NOT GOOD at all! My husband & I ate h..."
            ],
            "text/html": [
              "\n",
              "  <div id=\"df-2637ff22-dceb-4a3e-ac8a-85f4c959a3ee\" class=\"colab-df-container\">\n",
              "    <div>\n",
              "<style scoped>\n",
              "    .dataframe tbody tr th:only-of-type {\n",
              "        vertical-align: middle;\n",
              "    }\n",
              "\n",
              "    .dataframe tbody tr th {\n",
              "        vertical-align: top;\n",
              "    }\n",
              "\n",
              "    .dataframe thead th {\n",
              "        text-align: right;\n",
              "    }\n",
              "</style>\n",
              "<table border=\"1\" class=\"dataframe\">\n",
              "  <thead>\n",
              "    <tr style=\"text-align: right;\">\n",
              "      <th></th>\n",
              "      <th>label</th>\n",
              "      <th>text</th>\n",
              "    </tr>\n",
              "  </thead>\n",
              "  <tbody>\n",
              "    <tr>\n",
              "      <th>0</th>\n",
              "      <td>0</td>\n",
              "      <td>I got 'new' tires from them and within two wee...</td>\n",
              "    </tr>\n",
              "    <tr>\n",
              "      <th>1</th>\n",
              "      <td>0</td>\n",
              "      <td>Don't waste your time.  We had two different p...</td>\n",
              "    </tr>\n",
              "    <tr>\n",
              "      <th>2</th>\n",
              "      <td>0</td>\n",
              "      <td>All I can say is the worst! We were the only 2...</td>\n",
              "    </tr>\n",
              "    <tr>\n",
              "      <th>3</th>\n",
              "      <td>0</td>\n",
              "      <td>I have been to this restaurant twice and was d...</td>\n",
              "    </tr>\n",
              "    <tr>\n",
              "      <th>4</th>\n",
              "      <td>0</td>\n",
              "      <td>Food was NOT GOOD at all! My husband &amp; I ate h...</td>\n",
              "    </tr>\n",
              "  </tbody>\n",
              "</table>\n",
              "</div>\n",
              "    <div class=\"colab-df-buttons\">\n",
              "\n",
              "  <div class=\"colab-df-container\">\n",
              "    <button class=\"colab-df-convert\" onclick=\"convertToInteractive('df-2637ff22-dceb-4a3e-ac8a-85f4c959a3ee')\"\n",
              "            title=\"Convert this dataframe to an interactive table.\"\n",
              "            style=\"display:none;\">\n",
              "\n",
              "  <svg xmlns=\"http://www.w3.org/2000/svg\" height=\"24px\" viewBox=\"0 -960 960 960\">\n",
              "    <path d=\"M120-120v-720h720v720H120Zm60-500h600v-160H180v160Zm220 220h160v-160H400v160Zm0 220h160v-160H400v160ZM180-400h160v-160H180v160Zm440 0h160v-160H620v160ZM180-180h160v-160H180v160Zm440 0h160v-160H620v160Z\"/>\n",
              "  </svg>\n",
              "    </button>\n",
              "\n",
              "  <style>\n",
              "    .colab-df-container {\n",
              "      display:flex;\n",
              "      gap: 12px;\n",
              "    }\n",
              "\n",
              "    .colab-df-convert {\n",
              "      background-color: #E8F0FE;\n",
              "      border: none;\n",
              "      border-radius: 50%;\n",
              "      cursor: pointer;\n",
              "      display: none;\n",
              "      fill: #1967D2;\n",
              "      height: 32px;\n",
              "      padding: 0 0 0 0;\n",
              "      width: 32px;\n",
              "    }\n",
              "\n",
              "    .colab-df-convert:hover {\n",
              "      background-color: #E2EBFA;\n",
              "      box-shadow: 0px 1px 2px rgba(60, 64, 67, 0.3), 0px 1px 3px 1px rgba(60, 64, 67, 0.15);\n",
              "      fill: #174EA6;\n",
              "    }\n",
              "\n",
              "    .colab-df-buttons div {\n",
              "      margin-bottom: 4px;\n",
              "    }\n",
              "\n",
              "    [theme=dark] .colab-df-convert {\n",
              "      background-color: #3B4455;\n",
              "      fill: #D2E3FC;\n",
              "    }\n",
              "\n",
              "    [theme=dark] .colab-df-convert:hover {\n",
              "      background-color: #434B5C;\n",
              "      box-shadow: 0px 1px 3px 1px rgba(0, 0, 0, 0.15);\n",
              "      filter: drop-shadow(0px 1px 2px rgba(0, 0, 0, 0.3));\n",
              "      fill: #FFFFFF;\n",
              "    }\n",
              "  </style>\n",
              "\n",
              "    <script>\n",
              "      const buttonEl =\n",
              "        document.querySelector('#df-2637ff22-dceb-4a3e-ac8a-85f4c959a3ee button.colab-df-convert');\n",
              "      buttonEl.style.display =\n",
              "        google.colab.kernel.accessAllowed ? 'block' : 'none';\n",
              "\n",
              "      async function convertToInteractive(key) {\n",
              "        const element = document.querySelector('#df-2637ff22-dceb-4a3e-ac8a-85f4c959a3ee');\n",
              "        const dataTable =\n",
              "          await google.colab.kernel.invokeFunction('convertToInteractive',\n",
              "                                                    [key], {});\n",
              "        if (!dataTable) return;\n",
              "\n",
              "        const docLinkHtml = 'Like what you see? Visit the ' +\n",
              "          '<a target=\"_blank\" href=https://colab.research.google.com/notebooks/data_table.ipynb>data table notebook</a>'\n",
              "          + ' to learn more about interactive tables.';\n",
              "        element.innerHTML = '';\n",
              "        dataTable['output_type'] = 'display_data';\n",
              "        await google.colab.output.renderOutput(dataTable, element);\n",
              "        const docLink = document.createElement('div');\n",
              "        docLink.innerHTML = docLinkHtml;\n",
              "        element.appendChild(docLink);\n",
              "      }\n",
              "    </script>\n",
              "  </div>\n",
              "\n",
              "\n",
              "<div id=\"df-8b22cae9-b491-487f-9f0a-49fd10aa1ffd\">\n",
              "  <button class=\"colab-df-quickchart\" onclick=\"quickchart('df-8b22cae9-b491-487f-9f0a-49fd10aa1ffd')\"\n",
              "            title=\"Suggest charts\"\n",
              "            style=\"display:none;\">\n",
              "\n",
              "<svg xmlns=\"http://www.w3.org/2000/svg\" height=\"24px\"viewBox=\"0 0 24 24\"\n",
              "     width=\"24px\">\n",
              "    <g>\n",
              "        <path d=\"M19 3H5c-1.1 0-2 .9-2 2v14c0 1.1.9 2 2 2h14c1.1 0 2-.9 2-2V5c0-1.1-.9-2-2-2zM9 17H7v-7h2v7zm4 0h-2V7h2v10zm4 0h-2v-4h2v4z\"/>\n",
              "    </g>\n",
              "</svg>\n",
              "  </button>\n",
              "\n",
              "<style>\n",
              "  .colab-df-quickchart {\n",
              "      --bg-color: #E8F0FE;\n",
              "      --fill-color: #1967D2;\n",
              "      --hover-bg-color: #E2EBFA;\n",
              "      --hover-fill-color: #174EA6;\n",
              "      --disabled-fill-color: #AAA;\n",
              "      --disabled-bg-color: #DDD;\n",
              "  }\n",
              "\n",
              "  [theme=dark] .colab-df-quickchart {\n",
              "      --bg-color: #3B4455;\n",
              "      --fill-color: #D2E3FC;\n",
              "      --hover-bg-color: #434B5C;\n",
              "      --hover-fill-color: #FFFFFF;\n",
              "      --disabled-bg-color: #3B4455;\n",
              "      --disabled-fill-color: #666;\n",
              "  }\n",
              "\n",
              "  .colab-df-quickchart {\n",
              "    background-color: var(--bg-color);\n",
              "    border: none;\n",
              "    border-radius: 50%;\n",
              "    cursor: pointer;\n",
              "    display: none;\n",
              "    fill: var(--fill-color);\n",
              "    height: 32px;\n",
              "    padding: 0;\n",
              "    width: 32px;\n",
              "  }\n",
              "\n",
              "  .colab-df-quickchart:hover {\n",
              "    background-color: var(--hover-bg-color);\n",
              "    box-shadow: 0 1px 2px rgba(60, 64, 67, 0.3), 0 1px 3px 1px rgba(60, 64, 67, 0.15);\n",
              "    fill: var(--button-hover-fill-color);\n",
              "  }\n",
              "\n",
              "  .colab-df-quickchart-complete:disabled,\n",
              "  .colab-df-quickchart-complete:disabled:hover {\n",
              "    background-color: var(--disabled-bg-color);\n",
              "    fill: var(--disabled-fill-color);\n",
              "    box-shadow: none;\n",
              "  }\n",
              "\n",
              "  .colab-df-spinner {\n",
              "    border: 2px solid var(--fill-color);\n",
              "    border-color: transparent;\n",
              "    border-bottom-color: var(--fill-color);\n",
              "    animation:\n",
              "      spin 1s steps(1) infinite;\n",
              "  }\n",
              "\n",
              "  @keyframes spin {\n",
              "    0% {\n",
              "      border-color: transparent;\n",
              "      border-bottom-color: var(--fill-color);\n",
              "      border-left-color: var(--fill-color);\n",
              "    }\n",
              "    20% {\n",
              "      border-color: transparent;\n",
              "      border-left-color: var(--fill-color);\n",
              "      border-top-color: var(--fill-color);\n",
              "    }\n",
              "    30% {\n",
              "      border-color: transparent;\n",
              "      border-left-color: var(--fill-color);\n",
              "      border-top-color: var(--fill-color);\n",
              "      border-right-color: var(--fill-color);\n",
              "    }\n",
              "    40% {\n",
              "      border-color: transparent;\n",
              "      border-right-color: var(--fill-color);\n",
              "      border-top-color: var(--fill-color);\n",
              "    }\n",
              "    60% {\n",
              "      border-color: transparent;\n",
              "      border-right-color: var(--fill-color);\n",
              "    }\n",
              "    80% {\n",
              "      border-color: transparent;\n",
              "      border-right-color: var(--fill-color);\n",
              "      border-bottom-color: var(--fill-color);\n",
              "    }\n",
              "    90% {\n",
              "      border-color: transparent;\n",
              "      border-bottom-color: var(--fill-color);\n",
              "    }\n",
              "  }\n",
              "</style>\n",
              "\n",
              "  <script>\n",
              "    async function quickchart(key) {\n",
              "      const quickchartButtonEl =\n",
              "        document.querySelector('#' + key + ' button');\n",
              "      quickchartButtonEl.disabled = true;  // To prevent multiple clicks.\n",
              "      quickchartButtonEl.classList.add('colab-df-spinner');\n",
              "      try {\n",
              "        const charts = await google.colab.kernel.invokeFunction(\n",
              "            'suggestCharts', [key], {});\n",
              "      } catch (error) {\n",
              "        console.error('Error during call to suggestCharts:', error);\n",
              "      }\n",
              "      quickchartButtonEl.classList.remove('colab-df-spinner');\n",
              "      quickchartButtonEl.classList.add('colab-df-quickchart-complete');\n",
              "    }\n",
              "    (() => {\n",
              "      let quickchartButtonEl =\n",
              "        document.querySelector('#df-8b22cae9-b491-487f-9f0a-49fd10aa1ffd button');\n",
              "      quickchartButtonEl.style.display =\n",
              "        google.colab.kernel.accessAllowed ? 'block' : 'none';\n",
              "    })();\n",
              "  </script>\n",
              "</div>\n",
              "\n",
              "    </div>\n",
              "  </div>\n"
            ],
            "application/vnd.google.colaboratory.intrinsic+json": {
              "type": "dataframe",
              "variable_name": "output_df"
            }
          },
          "metadata": {},
          "execution_count": 12
        }
      ]
    },
    {
      "cell_type": "markdown",
      "source": [
        "### 4. Resize"
      ],
      "metadata": {
        "id": "468lwidhJA8v"
      }
    },
    {
      "cell_type": "code",
      "source": [
        "!pip install 'data-prep-toolkit-transforms[resize]==0.2.2.dev1'"
      ],
      "metadata": {
        "id": "hKRkZ23wI-ME"
      },
      "execution_count": null,
      "outputs": []
    },
    {
      "cell_type": "code",
      "source": [
        "STAGE = \"1\"\n",
        "output_folder =  \"yelp-dataset/s1-resized\"\n"
      ],
      "metadata": {
        "id": "Qh2fuj8bHeS1"
      },
      "execution_count": 2,
      "outputs": []
    },
    {
      "cell_type": "code",
      "source": [
        "\n",
        "\n",
        "import os\n",
        "import sys\n",
        "\n",
        "from data_processing.runtime.pure_python import PythonTransformLauncher\n",
        "from data_processing.utils import ParamsUtils\n",
        "from resize_transform_python import ResizePythonTransformConfiguration\n",
        "\n",
        "local_conf = {\n",
        "    \"input_folder\": input_folder,\n",
        "    \"output_folder\": output_folder,\n",
        "}\n",
        "params = {\n",
        "    # Data access. Only required parameters are specified\n",
        "    \"data_local_config\": ParamsUtils.convert_to_ast(local_conf),\n",
        "    # orchestrator\n",
        "    # resize configuration\n",
        "    # \"resize_max_mbytes_per_table\":  0.02,\n",
        "    \"resize_max_rows_per_table\": 35000,\n",
        "}\n",
        "sys.argv = ParamsUtils.dict_to_req(d=params)\n",
        "\n",
        "# launch\n",
        "\n",
        "launcher = PythonTransformLauncher(ResizePythonTransformConfiguration())\n",
        "\n",
        "return_code = launcher.launch()\n",
        "\n",
        "if return_code == 0:\n",
        "    print (f\"✅ Stage:{STAGE} completed successfully\")\n",
        "else:\n",
        "    raise Exception (\"❌ Job failed\")"
      ],
      "metadata": {
        "id": "9U2EE8auC9is",
        "outputId": "1b6c79cd-c9c8-4b50-ee1a-1699aa8046ac",
        "colab": {
          "base_uri": "https://localhost:8080/"
        }
      },
      "execution_count": 4,
      "outputs": [
        {
          "output_type": "stream",
          "name": "stderr",
          "text": [
            "20:34:44 INFO - Split file parameters are : {'max_rows_per_table': 35000, 'max_mbytes_per_table': -1, 'size_type': 'disk'}\n",
            "INFO:resize_transform:Split file parameters are : {'max_rows_per_table': 35000, 'max_mbytes_per_table': -1, 'size_type': 'disk'}\n",
            "20:34:44 INFO - pipeline id pipeline_id\n",
            "INFO:data_processing.runtime.execution_configuration:pipeline id pipeline_id\n",
            "20:34:44 INFO - code location None\n",
            "INFO:data_processing.runtime.execution_configuration:code location None\n",
            "20:34:44 INFO - data factory data_ is using local data access: input_folder - yelp-dataset/yelp_review_full output_folder - yelp-dataset/s1-resized\n",
            "INFO:data_processing.data_access.data_access_factory_base4930187d-0650-4796-9eb6-ccd2ecf870a6:data factory data_ is using local data access: input_folder - yelp-dataset/yelp_review_full output_folder - yelp-dataset/s1-resized\n",
            "20:34:44 INFO - data factory data_ max_files -1, n_sample -1\n",
            "INFO:data_processing.data_access.data_access_factory_base4930187d-0650-4796-9eb6-ccd2ecf870a6:data factory data_ max_files -1, n_sample -1\n",
            "20:34:44 INFO - data factory data_ Not using data sets, checkpointing False, max files -1, random samples -1, files to use ['.parquet'], files to checkpoint ['.parquet']\n",
            "INFO:data_processing.data_access.data_access_factory_base4930187d-0650-4796-9eb6-ccd2ecf870a6:data factory data_ Not using data sets, checkpointing False, max files -1, random samples -1, files to use ['.parquet'], files to checkpoint ['.parquet']\n",
            "20:34:44 INFO - orchestrator resize started at 2024-10-30 20:34:44\n",
            "INFO:data_processing.runtime.pure_python.transform_orchestrator:orchestrator resize started at 2024-10-30 20:34:44\n",
            "20:34:44 INFO - Number of files is 2, source profile {'max_file_size': 285.5652332305908, 'min_file_size': 22.426146507263184, 'total_file_size': 307.991379737854}\n",
            "INFO:data_processing.runtime.pure_python.transform_orchestrator:Number of files is 2, source profile {'max_file_size': 285.5652332305908, 'min_file_size': 22.426146507263184, 'total_file_size': 307.991379737854}\n",
            "20:34:45 INFO - Completed 1 files (50.0%) in 0.012 min\n",
            "INFO:data_processing.runtime.pure_python.transform_orchestrator:Completed 1 files (50.0%) in 0.012 min\n",
            "20:34:52 INFO - Completed 2 files (100.0%) in 0.122 min\n",
            "INFO:data_processing.runtime.pure_python.transform_orchestrator:Completed 2 files (100.0%) in 0.122 min\n",
            "20:34:52 INFO - Done processing 2 files, waiting for flush() completion.\n",
            "INFO:data_processing.runtime.pure_python.transform_orchestrator:Done processing 2 files, waiting for flush() completion.\n",
            "20:34:52 INFO - done flushing in 0.0 sec\n",
            "INFO:data_processing.runtime.pure_python.transform_orchestrator:done flushing in 0.0 sec\n",
            "20:34:52 INFO - Completed execution in 0.122 min, execution result 0\n",
            "INFO:data_processing.runtime.pure_python.transform_launcher:Completed execution in 0.122 min, execution result 0\n"
          ]
        },
        {
          "output_type": "stream",
          "name": "stdout",
          "text": [
            "✅ Stage:1 completed successfully\n"
          ]
        }
      ]
    },
    {
      "cell_type": "code",
      "source": [
        "STAGE = \"2\"\n",
        "input_folder = output_folder\n",
        "output_folder =  \"yelp-dataset/s2-hap\""
      ],
      "metadata": {
        "id": "BhQcN3IgIWS5"
      },
      "execution_count": 3,
      "outputs": []
    },
    {
      "cell_type": "code",
      "source": [
        "!pip install 'data-prep-toolkit-transforms[ray,hap]==0.2.2.dev1'"
      ],
      "metadata": {
        "id": "Pfxe1dvRMHPD",
        "outputId": "a3931a12-d88a-46ae-b892-39cd28618426",
        "colab": {
          "base_uri": "https://localhost:8080/",
          "height": 1000
        }
      },
      "execution_count": 3,
      "outputs": [
        {
          "output_type": "stream",
          "name": "stdout",
          "text": [
            "Requirement already satisfied: data-prep-toolkit-transforms==0.2.2.dev1 in /usr/local/lib/python3.10/dist-packages (from data-prep-toolkit-transforms[hap,ray]==0.2.2.dev1) (0.2.2.dev1)\n",
            "Requirement already satisfied: data-prep-toolkit>=0.2.2.dev1 in /usr/local/lib/python3.10/dist-packages (from data-prep-toolkit-transforms==0.2.2.dev1->data-prep-toolkit-transforms[hap,ray]==0.2.2.dev1) (0.2.2.dev1)\n",
            "Requirement already satisfied: networkx==3.3 in /usr/local/lib/python3.10/dist-packages (from data-prep-toolkit-transforms[hap,ray]==0.2.2.dev1) (3.3)\n",
            "Requirement already satisfied: colorlog==6.8.2 in /usr/local/lib/python3.10/dist-packages (from data-prep-toolkit-transforms[hap,ray]==0.2.2.dev1) (6.8.2)\n",
            "Requirement already satisfied: func-timeout==4.3.5 in /usr/local/lib/python3.10/dist-packages (from data-prep-toolkit-transforms[hap,ray]==0.2.2.dev1) (4.3.5)\n",
            "Requirement already satisfied: emerge-viz==2.0.0 in /usr/local/lib/python3.10/dist-packages (from data-prep-toolkit-transforms[hap,ray]==0.2.2.dev1) (2.0.0)\n",
            "Requirement already satisfied: nltk==3.9.1 in /usr/local/lib/python3.10/dist-packages (from data-prep-toolkit-transforms[hap,ray]==0.2.2.dev1) (3.9.1)\n",
            "Requirement already satisfied: transformers==4.38.2 in /usr/local/lib/python3.10/dist-packages (from data-prep-toolkit-transforms[hap,ray]==0.2.2.dev1) (4.38.2)\n",
            "Requirement already satisfied: torch==2.4.1 in /usr/local/lib/python3.10/dist-packages (from data-prep-toolkit-transforms[hap,ray]==0.2.2.dev1) (2.4.1)\n",
            "Requirement already satisfied: pandas==2.2.2 in /usr/local/lib/python3.10/dist-packages (from data-prep-toolkit-transforms[hap,ray]==0.2.2.dev1) (2.2.2)\n",
            "Requirement already satisfied: numpy<1.29.0 in /usr/local/lib/python3.10/dist-packages (from data-prep-toolkit>=0.2.2.dev1->data-prep-toolkit-transforms==0.2.2.dev1->data-prep-toolkit-transforms[hap,ray]==0.2.2.dev1) (1.26.4)\n",
            "Requirement already satisfied: pyarrow==16.1.0 in /usr/local/lib/python3.10/dist-packages (from data-prep-toolkit>=0.2.2.dev1->data-prep-toolkit-transforms==0.2.2.dev1->data-prep-toolkit-transforms[hap,ray]==0.2.2.dev1) (16.1.0)\n",
            "Requirement already satisfied: boto3==1.34.69 in /usr/local/lib/python3.10/dist-packages (from data-prep-toolkit>=0.2.2.dev1->data-prep-toolkit-transforms==0.2.2.dev1->data-prep-toolkit-transforms[hap,ray]==0.2.2.dev1) (1.34.69)\n",
            "Collecting argparse (from data-prep-toolkit>=0.2.2.dev1->data-prep-toolkit-transforms==0.2.2.dev1->data-prep-toolkit-transforms[hap,ray]==0.2.2.dev1)\n",
            "  Using cached argparse-1.4.0-py2.py3-none-any.whl.metadata (2.8 kB)\n",
            "Requirement already satisfied: mmh3 in /usr/local/lib/python3.10/dist-packages (from data-prep-toolkit>=0.2.2.dev1->data-prep-toolkit-transforms==0.2.2.dev1->data-prep-toolkit-transforms[hap,ray]==0.2.2.dev1) (5.0.1)\n",
            "Requirement already satisfied: psutil in /usr/local/lib/python3.10/dist-packages (from data-prep-toolkit>=0.2.2.dev1->data-prep-toolkit-transforms==0.2.2.dev1->data-prep-toolkit-transforms[hap,ray]==0.2.2.dev1) (5.9.5)\n",
            "Requirement already satisfied: wheel in /usr/local/lib/python3.10/dist-packages (from emerge-viz==2.0.0->data-prep-toolkit-transforms[hap,ray]==0.2.2.dev1) (0.44.0)\n",
            "Requirement already satisfied: autopep8 in /usr/local/lib/python3.10/dist-packages (from emerge-viz==2.0.0->data-prep-toolkit-transforms[hap,ray]==0.2.2.dev1) (2.3.1)\n",
            "Requirement already satisfied: coloredlogs in /usr/local/lib/python3.10/dist-packages (from emerge-viz==2.0.0->data-prep-toolkit-transforms[hap,ray]==0.2.2.dev1) (15.0.1)\n",
            "Requirement already satisfied: interrogate in /usr/local/lib/python3.10/dist-packages (from emerge-viz==2.0.0->data-prep-toolkit-transforms[hap,ray]==0.2.2.dev1) (1.7.0)\n",
            "Requirement already satisfied: scikit-learn in /usr/local/lib/python3.10/dist-packages (from emerge-viz==2.0.0->data-prep-toolkit-transforms[hap,ray]==0.2.2.dev1) (1.5.2)\n",
            "Requirement already satisfied: prettytable in /usr/local/lib/python3.10/dist-packages (from emerge-viz==2.0.0->data-prep-toolkit-transforms[hap,ray]==0.2.2.dev1) (3.11.0)\n",
            "Requirement already satisfied: py in /usr/local/lib/python3.10/dist-packages (from emerge-viz==2.0.0->data-prep-toolkit-transforms[hap,ray]==0.2.2.dev1) (1.11.0)\n",
            "Requirement already satisfied: pycodestyle in /usr/local/lib/python3.10/dist-packages (from emerge-viz==2.0.0->data-prep-toolkit-transforms[hap,ray]==0.2.2.dev1) (2.12.1)\n",
            "Requirement already satisfied: pylint in /usr/local/lib/python3.10/dist-packages (from emerge-viz==2.0.0->data-prep-toolkit-transforms[hap,ray]==0.2.2.dev1) (3.3.1)\n",
            "Requirement already satisfied: pyparsing in /usr/local/lib/python3.10/dist-packages (from emerge-viz==2.0.0->data-prep-toolkit-transforms[hap,ray]==0.2.2.dev1) (3.2.0)\n",
            "Requirement already satisfied: python-louvain in /usr/local/lib/python3.10/dist-packages (from emerge-viz==2.0.0->data-prep-toolkit-transforms[hap,ray]==0.2.2.dev1) (0.16)\n",
            "Requirement already satisfied: PyYAML in /usr/local/lib/python3.10/dist-packages (from emerge-viz==2.0.0->data-prep-toolkit-transforms[hap,ray]==0.2.2.dev1) (6.0.2)\n",
            "Requirement already satisfied: tabulate in /usr/local/lib/python3.10/dist-packages (from emerge-viz==2.0.0->data-prep-toolkit-transforms[hap,ray]==0.2.2.dev1) (0.9.0)\n",
            "Requirement already satisfied: PyDriller in /usr/local/lib/python3.10/dist-packages (from emerge-viz==2.0.0->data-prep-toolkit-transforms[hap,ray]==0.2.2.dev1) (2.6)\n",
            "Requirement already satisfied: pyperclip in /usr/local/lib/python3.10/dist-packages (from emerge-viz==2.0.0->data-prep-toolkit-transforms[hap,ray]==0.2.2.dev1) (1.9.0)\n",
            "Requirement already satisfied: click in /usr/local/lib/python3.10/dist-packages (from nltk==3.9.1->data-prep-toolkit-transforms[hap,ray]==0.2.2.dev1) (8.1.7)\n",
            "Requirement already satisfied: joblib in /usr/local/lib/python3.10/dist-packages (from nltk==3.9.1->data-prep-toolkit-transforms[hap,ray]==0.2.2.dev1) (1.4.2)\n",
            "Requirement already satisfied: regex>=2021.8.3 in /usr/local/lib/python3.10/dist-packages (from nltk==3.9.1->data-prep-toolkit-transforms[hap,ray]==0.2.2.dev1) (2024.9.11)\n",
            "Requirement already satisfied: tqdm in /usr/local/lib/python3.10/dist-packages (from nltk==3.9.1->data-prep-toolkit-transforms[hap,ray]==0.2.2.dev1) (4.66.5)\n",
            "Requirement already satisfied: python-dateutil>=2.8.2 in /usr/local/lib/python3.10/dist-packages (from pandas==2.2.2->data-prep-toolkit-transforms[hap,ray]==0.2.2.dev1) (2.8.2)\n",
            "Requirement already satisfied: pytz>=2020.1 in /usr/local/lib/python3.10/dist-packages (from pandas==2.2.2->data-prep-toolkit-transforms[hap,ray]==0.2.2.dev1) (2024.2)\n",
            "Requirement already satisfied: tzdata>=2022.7 in /usr/local/lib/python3.10/dist-packages (from pandas==2.2.2->data-prep-toolkit-transforms[hap,ray]==0.2.2.dev1) (2024.2)\n",
            "Requirement already satisfied: filelock in /usr/local/lib/python3.10/dist-packages (from torch==2.4.1->data-prep-toolkit-transforms[hap,ray]==0.2.2.dev1) (3.16.1)\n",
            "Requirement already satisfied: typing-extensions>=4.8.0 in /usr/local/lib/python3.10/dist-packages (from torch==2.4.1->data-prep-toolkit-transforms[hap,ray]==0.2.2.dev1) (4.12.2)\n",
            "Requirement already satisfied: sympy in /usr/local/lib/python3.10/dist-packages (from torch==2.4.1->data-prep-toolkit-transforms[hap,ray]==0.2.2.dev1) (1.13.1)\n",
            "Requirement already satisfied: jinja2 in /usr/local/lib/python3.10/dist-packages (from torch==2.4.1->data-prep-toolkit-transforms[hap,ray]==0.2.2.dev1) (3.1.4)\n",
            "Requirement already satisfied: fsspec in /usr/local/lib/python3.10/dist-packages (from torch==2.4.1->data-prep-toolkit-transforms[hap,ray]==0.2.2.dev1) (2024.6.1)\n",
            "Requirement already satisfied: nvidia-cuda-nvrtc-cu12==12.1.105 in /usr/local/lib/python3.10/dist-packages (from torch==2.4.1->data-prep-toolkit-transforms[hap,ray]==0.2.2.dev1) (12.1.105)\n",
            "Requirement already satisfied: nvidia-cuda-runtime-cu12==12.1.105 in /usr/local/lib/python3.10/dist-packages (from torch==2.4.1->data-prep-toolkit-transforms[hap,ray]==0.2.2.dev1) (12.1.105)\n",
            "Requirement already satisfied: nvidia-cuda-cupti-cu12==12.1.105 in /usr/local/lib/python3.10/dist-packages (from torch==2.4.1->data-prep-toolkit-transforms[hap,ray]==0.2.2.dev1) (12.1.105)\n",
            "Requirement already satisfied: nvidia-cudnn-cu12==9.1.0.70 in /usr/local/lib/python3.10/dist-packages (from torch==2.4.1->data-prep-toolkit-transforms[hap,ray]==0.2.2.dev1) (9.1.0.70)\n",
            "Requirement already satisfied: nvidia-cublas-cu12==12.1.3.1 in /usr/local/lib/python3.10/dist-packages (from torch==2.4.1->data-prep-toolkit-transforms[hap,ray]==0.2.2.dev1) (12.1.3.1)\n",
            "Requirement already satisfied: nvidia-cufft-cu12==11.0.2.54 in /usr/local/lib/python3.10/dist-packages (from torch==2.4.1->data-prep-toolkit-transforms[hap,ray]==0.2.2.dev1) (11.0.2.54)\n",
            "Requirement already satisfied: nvidia-curand-cu12==10.3.2.106 in /usr/local/lib/python3.10/dist-packages (from torch==2.4.1->data-prep-toolkit-transforms[hap,ray]==0.2.2.dev1) (10.3.2.106)\n",
            "Requirement already satisfied: nvidia-cusolver-cu12==11.4.5.107 in /usr/local/lib/python3.10/dist-packages (from torch==2.4.1->data-prep-toolkit-transforms[hap,ray]==0.2.2.dev1) (11.4.5.107)\n",
            "Requirement already satisfied: nvidia-cusparse-cu12==12.1.0.106 in /usr/local/lib/python3.10/dist-packages (from torch==2.4.1->data-prep-toolkit-transforms[hap,ray]==0.2.2.dev1) (12.1.0.106)\n",
            "Requirement already satisfied: nvidia-nccl-cu12==2.20.5 in /usr/local/lib/python3.10/dist-packages (from torch==2.4.1->data-prep-toolkit-transforms[hap,ray]==0.2.2.dev1) (2.20.5)\n",
            "Requirement already satisfied: nvidia-nvtx-cu12==12.1.105 in /usr/local/lib/python3.10/dist-packages (from torch==2.4.1->data-prep-toolkit-transforms[hap,ray]==0.2.2.dev1) (12.1.105)\n",
            "Requirement already satisfied: triton==3.0.0 in /usr/local/lib/python3.10/dist-packages (from torch==2.4.1->data-prep-toolkit-transforms[hap,ray]==0.2.2.dev1) (3.0.0)\n",
            "Requirement already satisfied: huggingface-hub<1.0,>=0.19.3 in /usr/local/lib/python3.10/dist-packages (from transformers==4.38.2->data-prep-toolkit-transforms[hap,ray]==0.2.2.dev1) (0.24.7)\n",
            "Requirement already satisfied: packaging>=20.0 in /usr/local/lib/python3.10/dist-packages (from transformers==4.38.2->data-prep-toolkit-transforms[hap,ray]==0.2.2.dev1) (24.1)\n",
            "Requirement already satisfied: requests in /usr/local/lib/python3.10/dist-packages (from transformers==4.38.2->data-prep-toolkit-transforms[hap,ray]==0.2.2.dev1) (2.32.3)\n",
            "Requirement already satisfied: tokenizers<0.19,>=0.14 in /usr/local/lib/python3.10/dist-packages (from transformers==4.38.2->data-prep-toolkit-transforms[hap,ray]==0.2.2.dev1) (0.15.2)\n",
            "Requirement already satisfied: safetensors>=0.4.1 in /usr/local/lib/python3.10/dist-packages (from transformers==4.38.2->data-prep-toolkit-transforms[hap,ray]==0.2.2.dev1) (0.4.5)\n",
            "Requirement already satisfied: botocore<1.35.0,>=1.34.69 in /usr/local/lib/python3.10/dist-packages (from boto3==1.34.69->data-prep-toolkit>=0.2.2.dev1->data-prep-toolkit-transforms==0.2.2.dev1->data-prep-toolkit-transforms[hap,ray]==0.2.2.dev1) (1.34.162)\n",
            "Requirement already satisfied: jmespath<2.0.0,>=0.7.1 in /usr/local/lib/python3.10/dist-packages (from boto3==1.34.69->data-prep-toolkit>=0.2.2.dev1->data-prep-toolkit-transforms==0.2.2.dev1->data-prep-toolkit-transforms[hap,ray]==0.2.2.dev1) (1.0.1)\n",
            "Requirement already satisfied: s3transfer<0.11.0,>=0.10.0 in /usr/local/lib/python3.10/dist-packages (from boto3==1.34.69->data-prep-toolkit>=0.2.2.dev1->data-prep-toolkit-transforms==0.2.2.dev1->data-prep-toolkit-transforms[hap,ray]==0.2.2.dev1) (0.10.3)\n",
            "Requirement already satisfied: nvidia-nvjitlink-cu12 in /usr/local/lib/python3.10/dist-packages (from nvidia-cusolver-cu12==11.4.5.107->torch==2.4.1->data-prep-toolkit-transforms[hap,ray]==0.2.2.dev1) (12.6.77)\n",
            "Requirement already satisfied: ray==2.36.1 in /usr/local/lib/python3.10/dist-packages (from ray[default]==2.36.1; extra == \"ray\"->data-prep-toolkit[ray]>=0.2.2.dev1; extra == \"ray\"->data-prep-toolkit-transforms[hap,ray]==0.2.2.dev1) (2.36.1)\n",
            "Requirement already satisfied: fastapi>=0.110.2 in /usr/local/lib/python3.10/dist-packages (from data-prep-toolkit[ray]>=0.2.2.dev1; extra == \"ray\"->data-prep-toolkit-transforms[hap,ray]==0.2.2.dev1) (0.115.4)\n",
            "Requirement already satisfied: pillow>=10.3.0 in /usr/local/lib/python3.10/dist-packages (from data-prep-toolkit[ray]>=0.2.2.dev1; extra == \"ray\"->data-prep-toolkit-transforms[hap,ray]==0.2.2.dev1) (10.4.0)\n",
            "Requirement already satisfied: jsonschema in /usr/local/lib/python3.10/dist-packages (from ray==2.36.1->ray[default]==2.36.1; extra == \"ray\"->data-prep-toolkit[ray]>=0.2.2.dev1; extra == \"ray\"->data-prep-toolkit-transforms[hap,ray]==0.2.2.dev1) (4.23.0)\n",
            "Requirement already satisfied: msgpack<2.0.0,>=1.0.0 in /usr/local/lib/python3.10/dist-packages (from ray==2.36.1->ray[default]==2.36.1; extra == \"ray\"->data-prep-toolkit[ray]>=0.2.2.dev1; extra == \"ray\"->data-prep-toolkit-transforms[hap,ray]==0.2.2.dev1) (1.1.0)\n",
            "Requirement already satisfied: protobuf!=3.19.5,>=3.15.3 in /usr/local/lib/python3.10/dist-packages (from ray==2.36.1->ray[default]==2.36.1; extra == \"ray\"->data-prep-toolkit[ray]>=0.2.2.dev1; extra == \"ray\"->data-prep-toolkit-transforms[hap,ray]==0.2.2.dev1) (3.20.3)\n",
            "Requirement already satisfied: aiosignal in /usr/local/lib/python3.10/dist-packages (from ray==2.36.1->ray[default]==2.36.1; extra == \"ray\"->data-prep-toolkit[ray]>=0.2.2.dev1; extra == \"ray\"->data-prep-toolkit-transforms[hap,ray]==0.2.2.dev1) (1.3.1)\n",
            "Requirement already satisfied: frozenlist in /usr/local/lib/python3.10/dist-packages (from ray==2.36.1->ray[default]==2.36.1; extra == \"ray\"->data-prep-toolkit[ray]>=0.2.2.dev1; extra == \"ray\"->data-prep-toolkit-transforms[hap,ray]==0.2.2.dev1) (1.5.0)\n",
            "Requirement already satisfied: aiohttp>=3.7 in /usr/local/lib/python3.10/dist-packages (from ray[default]==2.36.1; extra == \"ray\"->data-prep-toolkit[ray]>=0.2.2.dev1; extra == \"ray\"->data-prep-toolkit-transforms[hap,ray]==0.2.2.dev1) (3.10.10)\n",
            "Requirement already satisfied: aiohttp-cors in /usr/local/lib/python3.10/dist-packages (from ray[default]==2.36.1; extra == \"ray\"->data-prep-toolkit[ray]>=0.2.2.dev1; extra == \"ray\"->data-prep-toolkit-transforms[hap,ray]==0.2.2.dev1) (0.7.0)\n",
            "Requirement already satisfied: colorful in /usr/local/lib/python3.10/dist-packages (from ray[default]==2.36.1; extra == \"ray\"->data-prep-toolkit[ray]>=0.2.2.dev1; extra == \"ray\"->data-prep-toolkit-transforms[hap,ray]==0.2.2.dev1) (0.5.6)\n",
            "Requirement already satisfied: py-spy>=0.2.0 in /usr/local/lib/python3.10/dist-packages (from ray[default]==2.36.1; extra == \"ray\"->data-prep-toolkit[ray]>=0.2.2.dev1; extra == \"ray\"->data-prep-toolkit-transforms[hap,ray]==0.2.2.dev1) (0.3.14)\n",
            "Requirement already satisfied: opencensus in /usr/local/lib/python3.10/dist-packages (from ray[default]==2.36.1; extra == \"ray\"->data-prep-toolkit[ray]>=0.2.2.dev1; extra == \"ray\"->data-prep-toolkit-transforms[hap,ray]==0.2.2.dev1) (0.11.4)\n",
            "Requirement already satisfied: pydantic!=2.0.*,!=2.1.*,!=2.2.*,!=2.3.*,!=2.4.*,<3 in /usr/local/lib/python3.10/dist-packages (from ray[default]==2.36.1; extra == \"ray\"->data-prep-toolkit[ray]>=0.2.2.dev1; extra == \"ray\"->data-prep-toolkit-transforms[hap,ray]==0.2.2.dev1) (2.9.2)\n",
            "Requirement already satisfied: prometheus-client>=0.7.1 in /usr/local/lib/python3.10/dist-packages (from ray[default]==2.36.1; extra == \"ray\"->data-prep-toolkit[ray]>=0.2.2.dev1; extra == \"ray\"->data-prep-toolkit-transforms[hap,ray]==0.2.2.dev1) (0.21.0)\n",
            "Requirement already satisfied: smart-open in /usr/local/lib/python3.10/dist-packages (from ray[default]==2.36.1; extra == \"ray\"->data-prep-toolkit[ray]>=0.2.2.dev1; extra == \"ray\"->data-prep-toolkit-transforms[hap,ray]==0.2.2.dev1) (7.0.5)\n",
            "Requirement already satisfied: virtualenv!=20.21.1,>=20.0.24 in /usr/local/lib/python3.10/dist-packages (from ray[default]==2.36.1; extra == \"ray\"->data-prep-toolkit[ray]>=0.2.2.dev1; extra == \"ray\"->data-prep-toolkit-transforms[hap,ray]==0.2.2.dev1) (20.27.1)\n",
            "Requirement already satisfied: grpcio>=1.42.0 in /usr/local/lib/python3.10/dist-packages (from ray[default]==2.36.1; extra == \"ray\"->data-prep-toolkit[ray]>=0.2.2.dev1; extra == \"ray\"->data-prep-toolkit-transforms[hap,ray]==0.2.2.dev1) (1.64.1)\n",
            "Requirement already satisfied: memray in /usr/local/lib/python3.10/dist-packages (from ray[default]==2.36.1; extra == \"ray\"->data-prep-toolkit[ray]>=0.2.2.dev1; extra == \"ray\"->data-prep-toolkit-transforms[hap,ray]==0.2.2.dev1) (1.14.0)\n",
            "Requirement already satisfied: starlette<0.42.0,>=0.40.0 in /usr/local/lib/python3.10/dist-packages (from fastapi>=0.110.2->data-prep-toolkit[ray]>=0.2.2.dev1; extra == \"ray\"->data-prep-toolkit-transforms[hap,ray]==0.2.2.dev1) (0.41.2)\n",
            "Requirement already satisfied: six>=1.5 in /usr/local/lib/python3.10/dist-packages (from python-dateutil>=2.8.2->pandas==2.2.2->data-prep-toolkit-transforms[hap,ray]==0.2.2.dev1) (1.16.0)\n",
            "Requirement already satisfied: tomli in /usr/local/lib/python3.10/dist-packages (from autopep8->emerge-viz==2.0.0->data-prep-toolkit-transforms[hap,ray]==0.2.2.dev1) (2.0.2)\n",
            "Requirement already satisfied: humanfriendly>=9.1 in /usr/local/lib/python3.10/dist-packages (from coloredlogs->emerge-viz==2.0.0->data-prep-toolkit-transforms[hap,ray]==0.2.2.dev1) (10.0)\n",
            "Requirement already satisfied: attrs in /usr/local/lib/python3.10/dist-packages (from interrogate->emerge-viz==2.0.0->data-prep-toolkit-transforms[hap,ray]==0.2.2.dev1) (24.2.0)\n",
            "Requirement already satisfied: colorama in /usr/local/lib/python3.10/dist-packages (from interrogate->emerge-viz==2.0.0->data-prep-toolkit-transforms[hap,ray]==0.2.2.dev1) (0.4.6)\n",
            "Requirement already satisfied: MarkupSafe>=2.0 in /usr/local/lib/python3.10/dist-packages (from jinja2->torch==2.4.1->data-prep-toolkit-transforms[hap,ray]==0.2.2.dev1) (3.0.2)\n",
            "Requirement already satisfied: wcwidth in /usr/local/lib/python3.10/dist-packages (from prettytable->emerge-viz==2.0.0->data-prep-toolkit-transforms[hap,ray]==0.2.2.dev1) (0.2.13)\n",
            "Requirement already satisfied: gitpython in /usr/local/lib/python3.10/dist-packages (from PyDriller->emerge-viz==2.0.0->data-prep-toolkit-transforms[hap,ray]==0.2.2.dev1) (3.1.43)\n",
            "Requirement already satisfied: types-pytz in /usr/local/lib/python3.10/dist-packages (from PyDriller->emerge-viz==2.0.0->data-prep-toolkit-transforms[hap,ray]==0.2.2.dev1) (2024.2.0.20241003)\n",
            "Requirement already satisfied: lizard in /usr/local/lib/python3.10/dist-packages (from PyDriller->emerge-viz==2.0.0->data-prep-toolkit-transforms[hap,ray]==0.2.2.dev1) (1.17.10)\n",
            "Requirement already satisfied: platformdirs>=2.2.0 in /usr/local/lib/python3.10/dist-packages (from pylint->emerge-viz==2.0.0->data-prep-toolkit-transforms[hap,ray]==0.2.2.dev1) (4.3.6)\n",
            "Requirement already satisfied: astroid<=3.4.0-dev0,>=3.3.4 in /usr/local/lib/python3.10/dist-packages (from pylint->emerge-viz==2.0.0->data-prep-toolkit-transforms[hap,ray]==0.2.2.dev1) (3.3.5)\n",
            "Requirement already satisfied: isort!=5.13.0,<6,>=4.2.5 in /usr/local/lib/python3.10/dist-packages (from pylint->emerge-viz==2.0.0->data-prep-toolkit-transforms[hap,ray]==0.2.2.dev1) (5.13.2)\n",
            "Requirement already satisfied: mccabe<0.8,>=0.6 in /usr/local/lib/python3.10/dist-packages (from pylint->emerge-viz==2.0.0->data-prep-toolkit-transforms[hap,ray]==0.2.2.dev1) (0.7.0)\n",
            "Requirement already satisfied: tomlkit>=0.10.1 in /usr/local/lib/python3.10/dist-packages (from pylint->emerge-viz==2.0.0->data-prep-toolkit-transforms[hap,ray]==0.2.2.dev1) (0.13.2)\n",
            "Requirement already satisfied: dill>=0.2 in /usr/local/lib/python3.10/dist-packages (from pylint->emerge-viz==2.0.0->data-prep-toolkit-transforms[hap,ray]==0.2.2.dev1) (0.3.8)\n",
            "Requirement already satisfied: charset-normalizer<4,>=2 in /usr/local/lib/python3.10/dist-packages (from requests->transformers==4.38.2->data-prep-toolkit-transforms[hap,ray]==0.2.2.dev1) (3.4.0)\n",
            "Requirement already satisfied: idna<4,>=2.5 in /usr/local/lib/python3.10/dist-packages (from requests->transformers==4.38.2->data-prep-toolkit-transforms[hap,ray]==0.2.2.dev1) (3.10)\n",
            "Requirement already satisfied: urllib3<3,>=1.21.1 in /usr/local/lib/python3.10/dist-packages (from requests->transformers==4.38.2->data-prep-toolkit-transforms[hap,ray]==0.2.2.dev1) (2.2.3)\n",
            "Requirement already satisfied: certifi>=2017.4.17 in /usr/local/lib/python3.10/dist-packages (from requests->transformers==4.38.2->data-prep-toolkit-transforms[hap,ray]==0.2.2.dev1) (2024.8.30)\n",
            "Requirement already satisfied: scipy>=1.6.0 in /usr/local/lib/python3.10/dist-packages (from scikit-learn->emerge-viz==2.0.0->data-prep-toolkit-transforms[hap,ray]==0.2.2.dev1) (1.13.1)\n",
            "Requirement already satisfied: threadpoolctl>=3.1.0 in /usr/local/lib/python3.10/dist-packages (from scikit-learn->emerge-viz==2.0.0->data-prep-toolkit-transforms[hap,ray]==0.2.2.dev1) (3.5.0)\n",
            "Requirement already satisfied: mpmath<1.4,>=1.1.0 in /usr/local/lib/python3.10/dist-packages (from sympy->torch==2.4.1->data-prep-toolkit-transforms[hap,ray]==0.2.2.dev1) (1.3.0)\n",
            "Requirement already satisfied: aiohappyeyeballs>=2.3.0 in /usr/local/lib/python3.10/dist-packages (from aiohttp>=3.7->ray[default]==2.36.1; extra == \"ray\"->data-prep-toolkit[ray]>=0.2.2.dev1; extra == \"ray\"->data-prep-toolkit-transforms[hap,ray]==0.2.2.dev1) (2.4.3)\n",
            "Requirement already satisfied: multidict<7.0,>=4.5 in /usr/local/lib/python3.10/dist-packages (from aiohttp>=3.7->ray[default]==2.36.1; extra == \"ray\"->data-prep-toolkit[ray]>=0.2.2.dev1; extra == \"ray\"->data-prep-toolkit-transforms[hap,ray]==0.2.2.dev1) (6.1.0)\n",
            "Requirement already satisfied: yarl<2.0,>=1.12.0 in /usr/local/lib/python3.10/dist-packages (from aiohttp>=3.7->ray[default]==2.36.1; extra == \"ray\"->data-prep-toolkit[ray]>=0.2.2.dev1; extra == \"ray\"->data-prep-toolkit-transforms[hap,ray]==0.2.2.dev1) (1.16.0)\n",
            "Requirement already satisfied: async-timeout<5.0,>=4.0 in /usr/local/lib/python3.10/dist-packages (from aiohttp>=3.7->ray[default]==2.36.1; extra == \"ray\"->data-prep-toolkit[ray]>=0.2.2.dev1; extra == \"ray\"->data-prep-toolkit-transforms[hap,ray]==0.2.2.dev1) (4.0.3)\n",
            "Requirement already satisfied: annotated-types>=0.6.0 in /usr/local/lib/python3.10/dist-packages (from pydantic!=2.0.*,!=2.1.*,!=2.2.*,!=2.3.*,!=2.4.*,<3->ray[default]==2.36.1; extra == \"ray\"->data-prep-toolkit[ray]>=0.2.2.dev1; extra == \"ray\"->data-prep-toolkit-transforms[hap,ray]==0.2.2.dev1) (0.7.0)\n",
            "Requirement already satisfied: pydantic-core==2.23.4 in /usr/local/lib/python3.10/dist-packages (from pydantic!=2.0.*,!=2.1.*,!=2.2.*,!=2.3.*,!=2.4.*,<3->ray[default]==2.36.1; extra == \"ray\"->data-prep-toolkit[ray]>=0.2.2.dev1; extra == \"ray\"->data-prep-toolkit-transforms[hap,ray]==0.2.2.dev1) (2.23.4)\n",
            "Requirement already satisfied: anyio<5,>=3.4.0 in /usr/local/lib/python3.10/dist-packages (from starlette<0.42.0,>=0.40.0->fastapi>=0.110.2->data-prep-toolkit[ray]>=0.2.2.dev1; extra == \"ray\"->data-prep-toolkit-transforms[hap,ray]==0.2.2.dev1) (3.7.1)\n",
            "Requirement already satisfied: distlib<1,>=0.3.7 in /usr/local/lib/python3.10/dist-packages (from virtualenv!=20.21.1,>=20.0.24->ray[default]==2.36.1; extra == \"ray\"->data-prep-toolkit[ray]>=0.2.2.dev1; extra == \"ray\"->data-prep-toolkit-transforms[hap,ray]==0.2.2.dev1) (0.3.9)\n",
            "Requirement already satisfied: gitdb<5,>=4.0.1 in /usr/local/lib/python3.10/dist-packages (from gitpython->PyDriller->emerge-viz==2.0.0->data-prep-toolkit-transforms[hap,ray]==0.2.2.dev1) (4.0.11)\n",
            "Requirement already satisfied: jsonschema-specifications>=2023.03.6 in /usr/local/lib/python3.10/dist-packages (from jsonschema->ray==2.36.1->ray[default]==2.36.1; extra == \"ray\"->data-prep-toolkit[ray]>=0.2.2.dev1; extra == \"ray\"->data-prep-toolkit-transforms[hap,ray]==0.2.2.dev1) (2024.10.1)\n",
            "Requirement already satisfied: referencing>=0.28.4 in /usr/local/lib/python3.10/dist-packages (from jsonschema->ray==2.36.1->ray[default]==2.36.1; extra == \"ray\"->data-prep-toolkit[ray]>=0.2.2.dev1; extra == \"ray\"->data-prep-toolkit-transforms[hap,ray]==0.2.2.dev1) (0.35.1)\n",
            "Requirement already satisfied: rpds-py>=0.7.1 in /usr/local/lib/python3.10/dist-packages (from jsonschema->ray==2.36.1->ray[default]==2.36.1; extra == \"ray\"->data-prep-toolkit[ray]>=0.2.2.dev1; extra == \"ray\"->data-prep-toolkit-transforms[hap,ray]==0.2.2.dev1) (0.20.0)\n",
            "Requirement already satisfied: rich>=11.2.0 in /usr/local/lib/python3.10/dist-packages (from memray->ray[default]==2.36.1; extra == \"ray\"->data-prep-toolkit[ray]>=0.2.2.dev1; extra == \"ray\"->data-prep-toolkit-transforms[hap,ray]==0.2.2.dev1) (13.9.3)\n",
            "Requirement already satisfied: textual>=0.41.0 in /usr/local/lib/python3.10/dist-packages (from memray->ray[default]==2.36.1; extra == \"ray\"->data-prep-toolkit[ray]>=0.2.2.dev1; extra == \"ray\"->data-prep-toolkit-transforms[hap,ray]==0.2.2.dev1) (0.85.1)\n",
            "Requirement already satisfied: opencensus-context>=0.1.3 in /usr/local/lib/python3.10/dist-packages (from opencensus->ray[default]==2.36.1; extra == \"ray\"->data-prep-toolkit[ray]>=0.2.2.dev1; extra == \"ray\"->data-prep-toolkit-transforms[hap,ray]==0.2.2.dev1) (0.1.3)\n",
            "Requirement already satisfied: google-api-core<3.0.0,>=1.0.0 in /usr/local/lib/python3.10/dist-packages (from opencensus->ray[default]==2.36.1; extra == \"ray\"->data-prep-toolkit[ray]>=0.2.2.dev1; extra == \"ray\"->data-prep-toolkit-transforms[hap,ray]==0.2.2.dev1) (2.19.2)\n",
            "Requirement already satisfied: wrapt in /usr/local/lib/python3.10/dist-packages (from smart-open->ray[default]==2.36.1; extra == \"ray\"->data-prep-toolkit[ray]>=0.2.2.dev1; extra == \"ray\"->data-prep-toolkit-transforms[hap,ray]==0.2.2.dev1) (1.16.0)\n",
            "Requirement already satisfied: sniffio>=1.1 in /usr/local/lib/python3.10/dist-packages (from anyio<5,>=3.4.0->starlette<0.42.0,>=0.40.0->fastapi>=0.110.2->data-prep-toolkit[ray]>=0.2.2.dev1; extra == \"ray\"->data-prep-toolkit-transforms[hap,ray]==0.2.2.dev1) (1.3.1)\n",
            "Requirement already satisfied: exceptiongroup in /usr/local/lib/python3.10/dist-packages (from anyio<5,>=3.4.0->starlette<0.42.0,>=0.40.0->fastapi>=0.110.2->data-prep-toolkit[ray]>=0.2.2.dev1; extra == \"ray\"->data-prep-toolkit-transforms[hap,ray]==0.2.2.dev1) (1.2.2)\n",
            "Requirement already satisfied: smmap<6,>=3.0.1 in /usr/local/lib/python3.10/dist-packages (from gitdb<5,>=4.0.1->gitpython->PyDriller->emerge-viz==2.0.0->data-prep-toolkit-transforms[hap,ray]==0.2.2.dev1) (5.0.1)\n",
            "Requirement already satisfied: googleapis-common-protos<2.0.dev0,>=1.56.2 in /usr/local/lib/python3.10/dist-packages (from google-api-core<3.0.0,>=1.0.0->opencensus->ray[default]==2.36.1; extra == \"ray\"->data-prep-toolkit[ray]>=0.2.2.dev1; extra == \"ray\"->data-prep-toolkit-transforms[hap,ray]==0.2.2.dev1) (1.65.0)\n",
            "Requirement already satisfied: proto-plus<2.0.0dev,>=1.22.3 in /usr/local/lib/python3.10/dist-packages (from google-api-core<3.0.0,>=1.0.0->opencensus->ray[default]==2.36.1; extra == \"ray\"->data-prep-toolkit[ray]>=0.2.2.dev1; extra == \"ray\"->data-prep-toolkit-transforms[hap,ray]==0.2.2.dev1) (1.25.0)\n",
            "Requirement already satisfied: google-auth<3.0.dev0,>=2.14.1 in /usr/local/lib/python3.10/dist-packages (from google-api-core<3.0.0,>=1.0.0->opencensus->ray[default]==2.36.1; extra == \"ray\"->data-prep-toolkit[ray]>=0.2.2.dev1; extra == \"ray\"->data-prep-toolkit-transforms[hap,ray]==0.2.2.dev1) (2.27.0)\n",
            "Requirement already satisfied: markdown-it-py>=2.2.0 in /usr/local/lib/python3.10/dist-packages (from rich>=11.2.0->memray->ray[default]==2.36.1; extra == \"ray\"->data-prep-toolkit[ray]>=0.2.2.dev1; extra == \"ray\"->data-prep-toolkit-transforms[hap,ray]==0.2.2.dev1) (3.0.0)\n",
            "Requirement already satisfied: pygments<3.0.0,>=2.13.0 in /usr/local/lib/python3.10/dist-packages (from rich>=11.2.0->memray->ray[default]==2.36.1; extra == \"ray\"->data-prep-toolkit[ray]>=0.2.2.dev1; extra == \"ray\"->data-prep-toolkit-transforms[hap,ray]==0.2.2.dev1) (2.18.0)\n",
            "Requirement already satisfied: propcache>=0.2.0 in /usr/local/lib/python3.10/dist-packages (from yarl<2.0,>=1.12.0->aiohttp>=3.7->ray[default]==2.36.1; extra == \"ray\"->data-prep-toolkit[ray]>=0.2.2.dev1; extra == \"ray\"->data-prep-toolkit-transforms[hap,ray]==0.2.2.dev1) (0.2.0)\n",
            "Requirement already satisfied: cachetools<6.0,>=2.0.0 in /usr/local/lib/python3.10/dist-packages (from google-auth<3.0.dev0,>=2.14.1->google-api-core<3.0.0,>=1.0.0->opencensus->ray[default]==2.36.1; extra == \"ray\"->data-prep-toolkit[ray]>=0.2.2.dev1; extra == \"ray\"->data-prep-toolkit-transforms[hap,ray]==0.2.2.dev1) (5.5.0)\n",
            "Requirement already satisfied: pyasn1-modules>=0.2.1 in /usr/local/lib/python3.10/dist-packages (from google-auth<3.0.dev0,>=2.14.1->google-api-core<3.0.0,>=1.0.0->opencensus->ray[default]==2.36.1; extra == \"ray\"->data-prep-toolkit[ray]>=0.2.2.dev1; extra == \"ray\"->data-prep-toolkit-transforms[hap,ray]==0.2.2.dev1) (0.4.1)\n",
            "Requirement already satisfied: rsa<5,>=3.1.4 in /usr/local/lib/python3.10/dist-packages (from google-auth<3.0.dev0,>=2.14.1->google-api-core<3.0.0,>=1.0.0->opencensus->ray[default]==2.36.1; extra == \"ray\"->data-prep-toolkit[ray]>=0.2.2.dev1; extra == \"ray\"->data-prep-toolkit-transforms[hap,ray]==0.2.2.dev1) (4.9)\n",
            "Requirement already satisfied: mdurl~=0.1 in /usr/local/lib/python3.10/dist-packages (from markdown-it-py>=2.2.0->rich>=11.2.0->memray->ray[default]==2.36.1; extra == \"ray\"->data-prep-toolkit[ray]>=0.2.2.dev1; extra == \"ray\"->data-prep-toolkit-transforms[hap,ray]==0.2.2.dev1) (0.1.2)\n",
            "Requirement already satisfied: linkify-it-py<3,>=1 in /usr/local/lib/python3.10/dist-packages (from markdown-it-py[linkify,plugins]>=2.1.0->textual>=0.41.0->memray->ray[default]==2.36.1; extra == \"ray\"->data-prep-toolkit[ray]>=0.2.2.dev1; extra == \"ray\"->data-prep-toolkit-transforms[hap,ray]==0.2.2.dev1) (2.0.3)\n",
            "Requirement already satisfied: mdit-py-plugins in /usr/local/lib/python3.10/dist-packages (from markdown-it-py[linkify,plugins]>=2.1.0->textual>=0.41.0->memray->ray[default]==2.36.1; extra == \"ray\"->data-prep-toolkit[ray]>=0.2.2.dev1; extra == \"ray\"->data-prep-toolkit-transforms[hap,ray]==0.2.2.dev1) (0.4.2)\n",
            "Requirement already satisfied: uc-micro-py in /usr/local/lib/python3.10/dist-packages (from linkify-it-py<3,>=1->markdown-it-py[linkify,plugins]>=2.1.0->textual>=0.41.0->memray->ray[default]==2.36.1; extra == \"ray\"->data-prep-toolkit[ray]>=0.2.2.dev1; extra == \"ray\"->data-prep-toolkit-transforms[hap,ray]==0.2.2.dev1) (1.0.3)\n",
            "Requirement already satisfied: pyasn1<0.7.0,>=0.4.6 in /usr/local/lib/python3.10/dist-packages (from pyasn1-modules>=0.2.1->google-auth<3.0.dev0,>=2.14.1->google-api-core<3.0.0,>=1.0.0->opencensus->ray[default]==2.36.1; extra == \"ray\"->data-prep-toolkit[ray]>=0.2.2.dev1; extra == \"ray\"->data-prep-toolkit-transforms[hap,ray]==0.2.2.dev1) (0.6.1)\n",
            "Using cached argparse-1.4.0-py2.py3-none-any.whl (23 kB)\n",
            "Installing collected packages: argparse\n",
            "Successfully installed argparse-1.4.0\n"
          ]
        },
        {
          "output_type": "display_data",
          "data": {
            "application/vnd.colab-display-data+json": {
              "pip_warning": {
                "packages": [
                  "argparse"
                ]
              },
              "id": "b9589c898da042fcaa31f025c4e7c9d0"
            }
          },
          "metadata": {}
        }
      ]
    },
    {
      "cell_type": "code",
      "source": [
        "\n",
        "from data_processing_ray.runtime.ray  import RayTransformLauncher\n",
        "from hap_transform import HAPTransformConfiguration\n",
        "from hap_transform_ray import HAPRayTransformConfiguration\n",
        "\n",
        "local_conf = {\n",
        "    \"input_folder\": input_folder,\n",
        "    \"output_folder\": output_folder,\n",
        "}\n",
        "params = {\n",
        "    # Data access. Only required parameters are specified\n",
        "    \"data_local_config\": ParamsUtils.convert_to_ast(local_conf),\n",
        "    # where to run\n",
        "    \"run_locally\": True,\n",
        "    # hap_params\n",
        "    \"model_name_or_path\": 'ibm-granite/granite-guardian-hap-38m',\n",
        "    \"annotation_column\": \"hap_score\",\n",
        "    \"doc_text_column\": \"text\",\n",
        "    \"inference_engine\": \"CPU\",\n",
        "    \"max_length\": 512,\n",
        "    \"batch_size\": 128,\n",
        "}\n",
        "sys.argv = ParamsUtils.dict_to_req(d=params)\n",
        "\n",
        "# launch\n",
        "\n",
        "launcher = PythonTransformLauncher(ResizePythonTransformConfiguration())\n",
        "\n",
        "return_code = launcher.launch()\n",
        "\n",
        "if return_code == 0:\n",
        "    print (f\"✅ Stage:{STAGE} completed successfully\")\n",
        "else:\n",
        "    raise Exception (\"❌ Job failed\")"
      ],
      "metadata": {
        "id": "_O7AHFaZLQtl",
        "outputId": "2ad7ac7f-285d-43d1-b76e-d9cfdfcbe23d",
        "colab": {
          "base_uri": "https://localhost:8080/",
          "height": 429
        }
      },
      "execution_count": 1,
      "outputs": [
        {
          "output_type": "stream",
          "name": "stderr",
          "text": [
            "[nltk_data] Downloading package punkt_tab to /root/nltk_data...\n",
            "[nltk_data]   Package punkt_tab is already up-to-date!\n"
          ]
        },
        {
          "output_type": "error",
          "ename": "ModuleNotFoundError",
          "evalue": "No module named 'hap_transform_ray'",
          "traceback": [
            "\u001b[0;31m---------------------------------------------------------------------------\u001b[0m",
            "\u001b[0;31mModuleNotFoundError\u001b[0m                       Traceback (most recent call last)",
            "\u001b[0;32m<ipython-input-1-1bf6f79e0a4f>\u001b[0m in \u001b[0;36m<cell line: 3>\u001b[0;34m()\u001b[0m\n\u001b[1;32m      1\u001b[0m \u001b[0;32mfrom\u001b[0m \u001b[0mdata_processing_ray\u001b[0m\u001b[0;34m.\u001b[0m\u001b[0mruntime\u001b[0m\u001b[0;34m.\u001b[0m\u001b[0mray\u001b[0m  \u001b[0;32mimport\u001b[0m \u001b[0mRayTransformLauncher\u001b[0m\u001b[0;34m\u001b[0m\u001b[0;34m\u001b[0m\u001b[0m\n\u001b[1;32m      2\u001b[0m \u001b[0;32mfrom\u001b[0m \u001b[0mhap_transform\u001b[0m \u001b[0;32mimport\u001b[0m \u001b[0mHAPTransformConfiguration\u001b[0m\u001b[0;34m\u001b[0m\u001b[0;34m\u001b[0m\u001b[0m\n\u001b[0;32m----> 3\u001b[0;31m \u001b[0;32mfrom\u001b[0m \u001b[0mhap_transform_ray\u001b[0m \u001b[0;32mimport\u001b[0m \u001b[0mHAPRayTransformConfiguration\u001b[0m\u001b[0;34m\u001b[0m\u001b[0;34m\u001b[0m\u001b[0m\n\u001b[0m\u001b[1;32m      4\u001b[0m \u001b[0;34m\u001b[0m\u001b[0m\n\u001b[1;32m      5\u001b[0m local_conf = {\n",
            "\u001b[0;31mModuleNotFoundError\u001b[0m: No module named 'hap_transform_ray'",
            "",
            "\u001b[0;31m---------------------------------------------------------------------------\u001b[0;32m\nNOTE: If your import is failing due to a missing package, you can\nmanually install dependencies using either !pip or !apt.\n\nTo view examples of installing some common dependencies, click the\n\"Open Examples\" button below.\n\u001b[0;31m---------------------------------------------------------------------------\u001b[0m\n"
          ],
          "errorDetails": {
            "actions": [
              {
                "action": "open_url",
                "actionText": "Open Examples",
                "url": "/notebooks/snippets/importing_libraries.ipynb"
              }
            ]
          }
        }
      ]
    },
    {
      "cell_type": "code",
      "source": [],
      "metadata": {
        "id": "fjkQCHOyL7pc"
      },
      "execution_count": null,
      "outputs": []
    }
  ],
  "metadata": {
    "kernelspec": {
      "display_name": "yelp-data-prep",
      "language": "python",
      "name": "python3"
    },
    "language_info": {
      "codemirror_mode": {
        "name": "ipython",
        "version": 3
      },
      "file_extension": ".py",
      "mimetype": "text/x-python",
      "name": "python",
      "nbconvert_exporter": "python",
      "pygments_lexer": "ipython3",
      "version": "3.10.15"
    },
    "colab": {
      "provenance": []
    }
  },
  "nbformat": 4,
  "nbformat_minor": 0
}