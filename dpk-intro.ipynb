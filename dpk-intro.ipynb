{
  "cells": [
    {
      "cell_type": "markdown",
      "metadata": {
        "id": "xIWgYPSJWjQ1"
      },
      "source": [
        "# Data Prep Kit Introduction\n",
        "\n",
        "\n",
        "## PDF Processing Pipeline\n",
        "\n",
        "This notebook will demonstrate processing PDFs\n",
        "\n",
        "\n",
        "Here is the workflow,\n",
        "\n",
        "![](https://raw.githubusercontent.com/sujee/data-prep-kit-examples/main/media/data-prep-kit-3-workflow.png)"
      ]
    },
    {
      "cell_type": "markdown",
      "source": [
        "Open this notebook in Google Colab: [![Open In Colab](https://colab.research.google.com/assets/colab-badge.svg)](https://colab.research.google.com/github/santoshborse/pydatanyc2024/blob/main/dpk-intro.ipynb)"
      ],
      "metadata": {
        "id": "CMcyyJOGW0Xf"
      }
    },
    {
      "cell_type": "code",
      "source": [
        "import os\n",
        "\n",
        "if os.getenv(\"COLAB_RELEASE_TAG\"):\n",
        "   print(\"Running in Colab\")\n",
        "   !rm -rf sample_data\n",
        "   RUNNING_IN_COLAB = True\n",
        "else:\n",
        "   print(\"NOT in Colab\")\n",
        "   RUNNING_IN_COLAB = False\n"
      ],
      "metadata": {
        "id": "ObYmr9xJXGyf",
        "outputId": "258f93fe-8c3f-421a-bb46-a0824bce581f",
        "colab": {
          "base_uri": "https://localhost:8080/"
        }
      },
      "execution_count": 3,
      "outputs": [
        {
          "output_type": "stream",
          "name": "stdout",
          "text": [
            "Running in Colab\n"
          ]
        }
      ]
    },
    {
      "cell_type": "markdown",
      "source": [
        "## Step-0.1: Download and inspect the input Data\n"
      ],
      "metadata": {
        "id": "8slOXKvyW-HX"
      }
    },
    {
      "cell_type": "code",
      "source": [
        "if RUNNING_IN_COLAB:\n",
        "    !mkdir -p 'input'\n",
        "    !wget -O 'input/earth.pdf'  'https://raw.githubusercontent.com/sujee/data-prep-kit-examples/main/data/solar-system/earth.pdf'\n",
        "    !wget -O 'input/mars.pdf'  'https://raw.githubusercontent.com/sujee/data-prep-kit-examples/main/data/solar-system/mars.pdf'\n",
        "    !wget -O 'utils.py'  'https://raw.githubusercontent.com/sujee/data-prep-kit-examples/main/utils.py'\n"
      ],
      "metadata": {
        "id": "LtjqoD0uXbsQ",
        "outputId": "e7d60a35-bb3a-4a64-e55e-0209adb9563b",
        "colab": {
          "base_uri": "https://localhost:8080/"
        }
      },
      "execution_count": 4,
      "outputs": [
        {
          "output_type": "stream",
          "name": "stdout",
          "text": [
            "--2024-11-04 18:26:42--  https://raw.githubusercontent.com/sujee/data-prep-kit-examples/main/data/solar-system/earth.pdf\n",
            "Resolving raw.githubusercontent.com (raw.githubusercontent.com)... 185.199.108.133, 185.199.109.133, 185.199.110.133, ...\n",
            "Connecting to raw.githubusercontent.com (raw.githubusercontent.com)|185.199.108.133|:443... connected.\n",
            "HTTP request sent, awaiting response... 200 OK\n",
            "Length: 58535 (57K) [application/octet-stream]\n",
            "Saving to: ‘input/earth.pdf’\n",
            "\n",
            "\rinput/earth.pdf       0%[                    ]       0  --.-KB/s               \rinput/earth.pdf     100%[===================>]  57.16K  --.-KB/s    in 0.008s  \n",
            "\n",
            "2024-11-04 18:26:42 (6.84 MB/s) - ‘input/earth.pdf’ saved [58535/58535]\n",
            "\n",
            "--2024-11-04 18:26:42--  https://raw.githubusercontent.com/sujee/data-prep-kit-examples/main/data/solar-system/mars.pdf\n",
            "Resolving raw.githubusercontent.com (raw.githubusercontent.com)... 185.199.108.133, 185.199.109.133, 185.199.110.133, ...\n",
            "Connecting to raw.githubusercontent.com (raw.githubusercontent.com)|185.199.108.133|:443... connected.\n",
            "HTTP request sent, awaiting response... 200 OK\n",
            "Length: 57872 (57K) [application/octet-stream]\n",
            "Saving to: ‘input/mars.pdf’\n",
            "\n",
            "input/mars.pdf      100%[===================>]  56.52K  --.-KB/s    in 0.008s  \n",
            "\n",
            "2024-11-04 18:26:42 (6.87 MB/s) - ‘input/mars.pdf’ saved [57872/57872]\n",
            "\n",
            "--2024-11-04 18:26:42--  https://raw.githubusercontent.com/sujee/data-prep-kit-examples/main/utils.py\n",
            "Resolving raw.githubusercontent.com (raw.githubusercontent.com)... 185.199.108.133, 185.199.110.133, 185.199.109.133, ...\n",
            "Connecting to raw.githubusercontent.com (raw.githubusercontent.com)|185.199.108.133|:443... connected.\n",
            "HTTP request sent, awaiting response... 200 OK\n",
            "Length: 1856 (1.8K) [text/plain]\n",
            "Saving to: ‘utils.py’\n",
            "\n",
            "utils.py            100%[===================>]   1.81K  --.-KB/s    in 0s      \n",
            "\n",
            "2024-11-04 18:26:42 (24.7 MB/s) - ‘utils.py’ saved [1856/1856]\n",
            "\n"
          ]
        }
      ]
    },
    {
      "cell_type": "markdown",
      "source": [
        "## Step-0.2: Install DPK and Required Transforms\n"
      ],
      "metadata": {
        "id": "ucYBd_2EbxdQ"
      }
    },
    {
      "cell_type": "code",
      "source": [
        "## Step 2: Install DPK and all transforms\n",
        "if RUNNING_IN_COLAB:\n",
        "  !pip install data-prep-toolkit==0.2.2.dev2 && pip install data-prep-toolkit-transforms[pdf2parquet]==0.2.2.dev2\n"
      ],
      "metadata": {
        "id": "A9rn653nZRqP",
        "outputId": "dd82e407-f2ea-4e88-90f7-6aa707913424",
        "colab": {
          "base_uri": "https://localhost:8080/",
          "height": 1000
        }
      },
      "execution_count": 5,
      "outputs": [
        {
          "output_type": "stream",
          "name": "stdout",
          "text": [
            "Requirement already satisfied: data-prep-toolkit==0.2.2.dev2 in /usr/local/lib/python3.10/dist-packages (0.2.2.dev2)\n",
            "Requirement already satisfied: numpy<1.29.0 in /usr/local/lib/python3.10/dist-packages (from data-prep-toolkit==0.2.2.dev2) (1.26.4)\n",
            "Requirement already satisfied: pyarrow==16.1.0 in /usr/local/lib/python3.10/dist-packages (from data-prep-toolkit==0.2.2.dev2) (16.1.0)\n",
            "Requirement already satisfied: boto3==1.34.69 in /usr/local/lib/python3.10/dist-packages (from data-prep-toolkit==0.2.2.dev2) (1.34.69)\n",
            "Collecting argparse (from data-prep-toolkit==0.2.2.dev2)\n",
            "  Using cached argparse-1.4.0-py2.py3-none-any.whl.metadata (2.8 kB)\n",
            "Requirement already satisfied: mmh3 in /usr/local/lib/python3.10/dist-packages (from data-prep-toolkit==0.2.2.dev2) (5.0.1)\n",
            "Requirement already satisfied: psutil in /usr/local/lib/python3.10/dist-packages (from data-prep-toolkit==0.2.2.dev2) (5.9.5)\n",
            "Requirement already satisfied: botocore<1.35.0,>=1.34.69 in /usr/local/lib/python3.10/dist-packages (from boto3==1.34.69->data-prep-toolkit==0.2.2.dev2) (1.34.162)\n",
            "Requirement already satisfied: jmespath<2.0.0,>=0.7.1 in /usr/local/lib/python3.10/dist-packages (from boto3==1.34.69->data-prep-toolkit==0.2.2.dev2) (1.0.1)\n",
            "Requirement already satisfied: s3transfer<0.11.0,>=0.10.0 in /usr/local/lib/python3.10/dist-packages (from boto3==1.34.69->data-prep-toolkit==0.2.2.dev2) (0.10.3)\n",
            "Requirement already satisfied: python-dateutil<3.0.0,>=2.1 in /usr/local/lib/python3.10/dist-packages (from botocore<1.35.0,>=1.34.69->boto3==1.34.69->data-prep-toolkit==0.2.2.dev2) (2.8.2)\n",
            "Requirement already satisfied: urllib3!=2.2.0,<3,>=1.25.4 in /usr/local/lib/python3.10/dist-packages (from botocore<1.35.0,>=1.34.69->boto3==1.34.69->data-prep-toolkit==0.2.2.dev2) (2.2.3)\n",
            "Requirement already satisfied: six>=1.5 in /usr/local/lib/python3.10/dist-packages (from python-dateutil<3.0.0,>=2.1->botocore<1.35.0,>=1.34.69->boto3==1.34.69->data-prep-toolkit==0.2.2.dev2) (1.16.0)\n",
            "Using cached argparse-1.4.0-py2.py3-none-any.whl (23 kB)\n",
            "Installing collected packages: argparse\n",
            "Successfully installed argparse-1.4.0\n",
            "Requirement already satisfied: data-prep-toolkit-transforms==0.2.2.dev2 in /usr/local/lib/python3.10/dist-packages (from data-prep-toolkit-transforms[pdf2parquet]==0.2.2.dev2) (0.2.2.dev2)\n",
            "Requirement already satisfied: data-prep-toolkit>=0.2.2.dev2 in /usr/local/lib/python3.10/dist-packages (from data-prep-toolkit-transforms==0.2.2.dev2->data-prep-toolkit-transforms[pdf2parquet]==0.2.2.dev2) (0.2.2.dev2)\n",
            "Requirement already satisfied: docling-core==2.3.0 in /usr/local/lib/python3.10/dist-packages (from data-prep-toolkit-transforms[pdf2parquet]==0.2.2.dev2) (2.3.0)\n",
            "Requirement already satisfied: docling-ibm-models==2.0.3 in /usr/local/lib/python3.10/dist-packages (from data-prep-toolkit-transforms[pdf2parquet]==0.2.2.dev2) (2.0.3)\n",
            "Requirement already satisfied: deepsearch-glm==0.26.1 in /usr/local/lib/python3.10/dist-packages (from data-prep-toolkit-transforms[pdf2parquet]==0.2.2.dev2) (0.26.1)\n",
            "Requirement already satisfied: docling==2.3.1 in /usr/local/lib/python3.10/dist-packages (from data-prep-toolkit-transforms[pdf2parquet]==0.2.2.dev2) (2.3.1)\n",
            "Requirement already satisfied: filetype<2.0.0,>=1.2.0 in /usr/local/lib/python3.10/dist-packages (from data-prep-toolkit-transforms[pdf2parquet]==0.2.2.dev2) (1.2.0)\n",
            "Requirement already satisfied: numpy<1.29.0 in /usr/local/lib/python3.10/dist-packages (from data-prep-toolkit>=0.2.2.dev2->data-prep-toolkit-transforms==0.2.2.dev2->data-prep-toolkit-transforms[pdf2parquet]==0.2.2.dev2) (1.26.4)\n",
            "Requirement already satisfied: pyarrow==16.1.0 in /usr/local/lib/python3.10/dist-packages (from data-prep-toolkit>=0.2.2.dev2->data-prep-toolkit-transforms==0.2.2.dev2->data-prep-toolkit-transforms[pdf2parquet]==0.2.2.dev2) (16.1.0)\n",
            "Requirement already satisfied: boto3==1.34.69 in /usr/local/lib/python3.10/dist-packages (from data-prep-toolkit>=0.2.2.dev2->data-prep-toolkit-transforms==0.2.2.dev2->data-prep-toolkit-transforms[pdf2parquet]==0.2.2.dev2) (1.34.69)\n",
            "Collecting argparse (from data-prep-toolkit>=0.2.2.dev2->data-prep-toolkit-transforms==0.2.2.dev2->data-prep-toolkit-transforms[pdf2parquet]==0.2.2.dev2)\n",
            "  Using cached argparse-1.4.0-py2.py3-none-any.whl.metadata (2.8 kB)\n",
            "Requirement already satisfied: mmh3 in /usr/local/lib/python3.10/dist-packages (from data-prep-toolkit>=0.2.2.dev2->data-prep-toolkit-transforms==0.2.2.dev2->data-prep-toolkit-transforms[pdf2parquet]==0.2.2.dev2) (5.0.1)\n",
            "Requirement already satisfied: psutil in /usr/local/lib/python3.10/dist-packages (from data-prep-toolkit>=0.2.2.dev2->data-prep-toolkit-transforms==0.2.2.dev2->data-prep-toolkit-transforms[pdf2parquet]==0.2.2.dev2) (5.9.5)\n",
            "Requirement already satisfied: docutils!=0.21 in /usr/local/lib/python3.10/dist-packages (from deepsearch-glm==0.26.1->data-prep-toolkit-transforms[pdf2parquet]==0.2.2.dev2) (0.18.1)\n",
            "Requirement already satisfied: pandas<3.0.0,>=2.1.4 in /usr/local/lib/python3.10/dist-packages (from deepsearch-glm==0.26.1->data-prep-toolkit-transforms[pdf2parquet]==0.2.2.dev2) (2.2.2)\n",
            "Requirement already satisfied: python-dotenv<2.0.0,>=1.0.0 in /usr/local/lib/python3.10/dist-packages (from deepsearch-glm==0.26.1->data-prep-toolkit-transforms[pdf2parquet]==0.2.2.dev2) (1.0.1)\n",
            "Requirement already satisfied: requests<3.0.0,>=2.32.3 in /usr/local/lib/python3.10/dist-packages (from deepsearch-glm==0.26.1->data-prep-toolkit-transforms[pdf2parquet]==0.2.2.dev2) (2.32.3)\n",
            "Requirement already satisfied: rich<14.0.0,>=13.7.0 in /usr/local/lib/python3.10/dist-packages (from deepsearch-glm==0.26.1->data-prep-toolkit-transforms[pdf2parquet]==0.2.2.dev2) (13.9.3)\n",
            "Requirement already satisfied: tabulate>=0.8.9 in /usr/local/lib/python3.10/dist-packages (from deepsearch-glm==0.26.1->data-prep-toolkit-transforms[pdf2parquet]==0.2.2.dev2) (0.9.0)\n",
            "Requirement already satisfied: tqdm<5.0.0,>=4.64.0 in /usr/local/lib/python3.10/dist-packages (from deepsearch-glm==0.26.1->data-prep-toolkit-transforms[pdf2parquet]==0.2.2.dev2) (4.66.6)\n",
            "Requirement already satisfied: beautifulsoup4<5.0.0,>=4.12.3 in /usr/local/lib/python3.10/dist-packages (from docling==2.3.1->data-prep-toolkit-transforms[pdf2parquet]==0.2.2.dev2) (4.12.3)\n",
            "Requirement already satisfied: certifi>=2024.7.4 in /usr/local/lib/python3.10/dist-packages (from docling==2.3.1->data-prep-toolkit-transforms[pdf2parquet]==0.2.2.dev2) (2024.8.30)\n",
            "Requirement already satisfied: docling-parse<3.0.0,>=2.0.2 in /usr/local/lib/python3.10/dist-packages (from docling==2.3.1->data-prep-toolkit-transforms[pdf2parquet]==0.2.2.dev2) (2.0.2)\n",
            "Requirement already satisfied: easyocr<2.0,>=1.7 in /usr/local/lib/python3.10/dist-packages (from docling==2.3.1->data-prep-toolkit-transforms[pdf2parquet]==0.2.2.dev2) (1.7.2)\n",
            "Requirement already satisfied: huggingface_hub<1,>=0.23 in /usr/local/lib/python3.10/dist-packages (from docling==2.3.1->data-prep-toolkit-transforms[pdf2parquet]==0.2.2.dev2) (0.24.7)\n",
            "Requirement already satisfied: marko<3.0.0,>=2.1.2 in /usr/local/lib/python3.10/dist-packages (from docling==2.3.1->data-prep-toolkit-transforms[pdf2parquet]==0.2.2.dev2) (2.1.2)\n",
            "Requirement already satisfied: pydantic<3.0.0,>=2.0.0 in /usr/local/lib/python3.10/dist-packages (from docling==2.3.1->data-prep-toolkit-transforms[pdf2parquet]==0.2.2.dev2) (2.9.2)\n",
            "Requirement already satisfied: pydantic-settings<3.0.0,>=2.3.0 in /usr/local/lib/python3.10/dist-packages (from docling==2.3.1->data-prep-toolkit-transforms[pdf2parquet]==0.2.2.dev2) (2.6.1)\n",
            "Requirement already satisfied: pypdfium2<5.0.0,>=4.30.0 in /usr/local/lib/python3.10/dist-packages (from docling==2.3.1->data-prep-toolkit-transforms[pdf2parquet]==0.2.2.dev2) (4.30.0)\n",
            "Requirement already satisfied: python-docx<2.0.0,>=1.1.2 in /usr/local/lib/python3.10/dist-packages (from docling==2.3.1->data-prep-toolkit-transforms[pdf2parquet]==0.2.2.dev2) (1.1.2)\n",
            "Requirement already satisfied: python-pptx<2.0.0,>=1.0.2 in /usr/local/lib/python3.10/dist-packages (from docling==2.3.1->data-prep-toolkit-transforms[pdf2parquet]==0.2.2.dev2) (1.0.2)\n",
            "Requirement already satisfied: rtree<2.0.0,>=1.3.0 in /usr/local/lib/python3.10/dist-packages (from docling==2.3.1->data-prep-toolkit-transforms[pdf2parquet]==0.2.2.dev2) (1.3.0)\n",
            "Requirement already satisfied: scipy<2.0.0,>=1.14.1 in /usr/local/lib/python3.10/dist-packages (from docling==2.3.1->data-prep-toolkit-transforms[pdf2parquet]==0.2.2.dev2) (1.14.1)\n",
            "Requirement already satisfied: typer<0.13.0,>=0.12.5 in /usr/local/lib/python3.10/dist-packages (from docling==2.3.1->data-prep-toolkit-transforms[pdf2parquet]==0.2.2.dev2) (0.12.5)\n",
            "Requirement already satisfied: jsonref<2.0.0,>=1.1.0 in /usr/local/lib/python3.10/dist-packages (from docling-core==2.3.0->data-prep-toolkit-transforms[pdf2parquet]==0.2.2.dev2) (1.1.0)\n",
            "Requirement already satisfied: jsonschema<5.0.0,>=4.16.0 in /usr/local/lib/python3.10/dist-packages (from docling-core==2.3.0->data-prep-toolkit-transforms[pdf2parquet]==0.2.2.dev2) (4.23.0)\n",
            "Requirement already satisfied: pillow<11.0.0,>=10.3.0 in /usr/local/lib/python3.10/dist-packages (from docling-core==2.3.0->data-prep-toolkit-transforms[pdf2parquet]==0.2.2.dev2) (10.4.0)\n",
            "Requirement already satisfied: jsonlines<4.0.0,>=3.1.0 in /usr/local/lib/python3.10/dist-packages (from docling-ibm-models==2.0.3->data-prep-toolkit-transforms[pdf2parquet]==0.2.2.dev2) (3.1.0)\n",
            "Requirement already satisfied: lxml<5.0.0,>=4.9.1 in /usr/local/lib/python3.10/dist-packages (from docling-ibm-models==2.0.3->data-prep-toolkit-transforms[pdf2parquet]==0.2.2.dev2) (4.9.4)\n",
            "Requirement already satisfied: mean_average_precision<2022.0.0.0,>=2021.4.26.0 in /usr/local/lib/python3.10/dist-packages (from docling-ibm-models==2.0.3->data-prep-toolkit-transforms[pdf2parquet]==0.2.2.dev2) (2021.4.26.0)\n",
            "Requirement already satisfied: opencv-python-headless<5.0.0.0,>=4.6.0.66 in /usr/local/lib/python3.10/dist-packages (from docling-ibm-models==2.0.3->data-prep-toolkit-transforms[pdf2parquet]==0.2.2.dev2) (4.10.0.84)\n",
            "Requirement already satisfied: torch<3.0.0,>=2.2.2 in /usr/local/lib/python3.10/dist-packages (from docling-ibm-models==2.0.3->data-prep-toolkit-transforms[pdf2parquet]==0.2.2.dev2) (2.5.0+cu121)\n",
            "Requirement already satisfied: torchvision<1,>=0 in /usr/local/lib/python3.10/dist-packages (from docling-ibm-models==2.0.3->data-prep-toolkit-transforms[pdf2parquet]==0.2.2.dev2) (0.20.0+cu121)\n",
            "Requirement already satisfied: botocore<1.35.0,>=1.34.69 in /usr/local/lib/python3.10/dist-packages (from boto3==1.34.69->data-prep-toolkit>=0.2.2.dev2->data-prep-toolkit-transforms==0.2.2.dev2->data-prep-toolkit-transforms[pdf2parquet]==0.2.2.dev2) (1.34.162)\n",
            "Requirement already satisfied: jmespath<2.0.0,>=0.7.1 in /usr/local/lib/python3.10/dist-packages (from boto3==1.34.69->data-prep-toolkit>=0.2.2.dev2->data-prep-toolkit-transforms==0.2.2.dev2->data-prep-toolkit-transforms[pdf2parquet]==0.2.2.dev2) (1.0.1)\n",
            "Requirement already satisfied: s3transfer<0.11.0,>=0.10.0 in /usr/local/lib/python3.10/dist-packages (from boto3==1.34.69->data-prep-toolkit>=0.2.2.dev2->data-prep-toolkit-transforms==0.2.2.dev2->data-prep-toolkit-transforms[pdf2parquet]==0.2.2.dev2) (0.10.3)\n",
            "Requirement already satisfied: soupsieve>1.2 in /usr/local/lib/python3.10/dist-packages (from beautifulsoup4<5.0.0,>=4.12.3->docling==2.3.1->data-prep-toolkit-transforms[pdf2parquet]==0.2.2.dev2) (2.6)\n",
            "Requirement already satisfied: scikit-image in /usr/local/lib/python3.10/dist-packages (from easyocr<2.0,>=1.7->docling==2.3.1->data-prep-toolkit-transforms[pdf2parquet]==0.2.2.dev2) (0.24.0)\n",
            "Requirement already satisfied: python-bidi in /usr/local/lib/python3.10/dist-packages (from easyocr<2.0,>=1.7->docling==2.3.1->data-prep-toolkit-transforms[pdf2parquet]==0.2.2.dev2) (0.6.3)\n",
            "Requirement already satisfied: PyYAML in /usr/local/lib/python3.10/dist-packages (from easyocr<2.0,>=1.7->docling==2.3.1->data-prep-toolkit-transforms[pdf2parquet]==0.2.2.dev2) (6.0.2)\n",
            "Requirement already satisfied: Shapely in /usr/local/lib/python3.10/dist-packages (from easyocr<2.0,>=1.7->docling==2.3.1->data-prep-toolkit-transforms[pdf2parquet]==0.2.2.dev2) (2.0.6)\n",
            "Requirement already satisfied: pyclipper in /usr/local/lib/python3.10/dist-packages (from easyocr<2.0,>=1.7->docling==2.3.1->data-prep-toolkit-transforms[pdf2parquet]==0.2.2.dev2) (1.3.0.post6)\n",
            "Requirement already satisfied: ninja in /usr/local/lib/python3.10/dist-packages (from easyocr<2.0,>=1.7->docling==2.3.1->data-prep-toolkit-transforms[pdf2parquet]==0.2.2.dev2) (1.11.1.1)\n",
            "Requirement already satisfied: filelock in /usr/local/lib/python3.10/dist-packages (from huggingface_hub<1,>=0.23->docling==2.3.1->data-prep-toolkit-transforms[pdf2parquet]==0.2.2.dev2) (3.16.1)\n",
            "Requirement already satisfied: fsspec>=2023.5.0 in /usr/local/lib/python3.10/dist-packages (from huggingface_hub<1,>=0.23->docling==2.3.1->data-prep-toolkit-transforms[pdf2parquet]==0.2.2.dev2) (2024.10.0)\n",
            "Requirement already satisfied: packaging>=20.9 in /usr/local/lib/python3.10/dist-packages (from huggingface_hub<1,>=0.23->docling==2.3.1->data-prep-toolkit-transforms[pdf2parquet]==0.2.2.dev2) (24.1)\n",
            "Requirement already satisfied: typing-extensions>=3.7.4.3 in /usr/local/lib/python3.10/dist-packages (from huggingface_hub<1,>=0.23->docling==2.3.1->data-prep-toolkit-transforms[pdf2parquet]==0.2.2.dev2) (4.12.2)\n",
            "Requirement already satisfied: attrs>=19.2.0 in /usr/local/lib/python3.10/dist-packages (from jsonlines<4.0.0,>=3.1.0->docling-ibm-models==2.0.3->data-prep-toolkit-transforms[pdf2parquet]==0.2.2.dev2) (24.2.0)\n",
            "Requirement already satisfied: jsonschema-specifications>=2023.03.6 in /usr/local/lib/python3.10/dist-packages (from jsonschema<5.0.0,>=4.16.0->docling-core==2.3.0->data-prep-toolkit-transforms[pdf2parquet]==0.2.2.dev2) (2024.10.1)\n",
            "Requirement already satisfied: referencing>=0.28.4 in /usr/local/lib/python3.10/dist-packages (from jsonschema<5.0.0,>=4.16.0->docling-core==2.3.0->data-prep-toolkit-transforms[pdf2parquet]==0.2.2.dev2) (0.35.1)\n",
            "Requirement already satisfied: rpds-py>=0.7.1 in /usr/local/lib/python3.10/dist-packages (from jsonschema<5.0.0,>=4.16.0->docling-core==2.3.0->data-prep-toolkit-transforms[pdf2parquet]==0.2.2.dev2) (0.20.0)\n",
            "Requirement already satisfied: python-dateutil>=2.8.2 in /usr/local/lib/python3.10/dist-packages (from pandas<3.0.0,>=2.1.4->deepsearch-glm==0.26.1->data-prep-toolkit-transforms[pdf2parquet]==0.2.2.dev2) (2.8.2)\n",
            "Requirement already satisfied: pytz>=2020.1 in /usr/local/lib/python3.10/dist-packages (from pandas<3.0.0,>=2.1.4->deepsearch-glm==0.26.1->data-prep-toolkit-transforms[pdf2parquet]==0.2.2.dev2) (2024.2)\n",
            "Requirement already satisfied: tzdata>=2022.7 in /usr/local/lib/python3.10/dist-packages (from pandas<3.0.0,>=2.1.4->deepsearch-glm==0.26.1->data-prep-toolkit-transforms[pdf2parquet]==0.2.2.dev2) (2024.2)\n",
            "Requirement already satisfied: annotated-types>=0.6.0 in /usr/local/lib/python3.10/dist-packages (from pydantic<3.0.0,>=2.0.0->docling==2.3.1->data-prep-toolkit-transforms[pdf2parquet]==0.2.2.dev2) (0.7.0)\n",
            "Requirement already satisfied: pydantic-core==2.23.4 in /usr/local/lib/python3.10/dist-packages (from pydantic<3.0.0,>=2.0.0->docling==2.3.1->data-prep-toolkit-transforms[pdf2parquet]==0.2.2.dev2) (2.23.4)\n",
            "Requirement already satisfied: XlsxWriter>=0.5.7 in /usr/local/lib/python3.10/dist-packages (from python-pptx<2.0.0,>=1.0.2->docling==2.3.1->data-prep-toolkit-transforms[pdf2parquet]==0.2.2.dev2) (3.2.0)\n",
            "Requirement already satisfied: charset-normalizer<4,>=2 in /usr/local/lib/python3.10/dist-packages (from requests<3.0.0,>=2.32.3->deepsearch-glm==0.26.1->data-prep-toolkit-transforms[pdf2parquet]==0.2.2.dev2) (3.4.0)\n",
            "Requirement already satisfied: idna<4,>=2.5 in /usr/local/lib/python3.10/dist-packages (from requests<3.0.0,>=2.32.3->deepsearch-glm==0.26.1->data-prep-toolkit-transforms[pdf2parquet]==0.2.2.dev2) (3.10)\n",
            "Requirement already satisfied: urllib3<3,>=1.21.1 in /usr/local/lib/python3.10/dist-packages (from requests<3.0.0,>=2.32.3->deepsearch-glm==0.26.1->data-prep-toolkit-transforms[pdf2parquet]==0.2.2.dev2) (2.2.3)\n",
            "Requirement already satisfied: markdown-it-py>=2.2.0 in /usr/local/lib/python3.10/dist-packages (from rich<14.0.0,>=13.7.0->deepsearch-glm==0.26.1->data-prep-toolkit-transforms[pdf2parquet]==0.2.2.dev2) (3.0.0)\n",
            "Requirement already satisfied: pygments<3.0.0,>=2.13.0 in /usr/local/lib/python3.10/dist-packages (from rich<14.0.0,>=13.7.0->deepsearch-glm==0.26.1->data-prep-toolkit-transforms[pdf2parquet]==0.2.2.dev2) (2.18.0)\n",
            "Requirement already satisfied: networkx in /usr/local/lib/python3.10/dist-packages (from torch<3.0.0,>=2.2.2->docling-ibm-models==2.0.3->data-prep-toolkit-transforms[pdf2parquet]==0.2.2.dev2) (3.3)\n",
            "Requirement already satisfied: jinja2 in /usr/local/lib/python3.10/dist-packages (from torch<3.0.0,>=2.2.2->docling-ibm-models==2.0.3->data-prep-toolkit-transforms[pdf2parquet]==0.2.2.dev2) (3.1.4)\n",
            "Requirement already satisfied: sympy==1.13.1 in /usr/local/lib/python3.10/dist-packages (from torch<3.0.0,>=2.2.2->docling-ibm-models==2.0.3->data-prep-toolkit-transforms[pdf2parquet]==0.2.2.dev2) (1.13.1)\n",
            "Requirement already satisfied: mpmath<1.4,>=1.1.0 in /usr/local/lib/python3.10/dist-packages (from sympy==1.13.1->torch<3.0.0,>=2.2.2->docling-ibm-models==2.0.3->data-prep-toolkit-transforms[pdf2parquet]==0.2.2.dev2) (1.3.0)\n",
            "Requirement already satisfied: click>=8.0.0 in /usr/local/lib/python3.10/dist-packages (from typer<0.13.0,>=0.12.5->docling==2.3.1->data-prep-toolkit-transforms[pdf2parquet]==0.2.2.dev2) (8.1.7)\n",
            "Requirement already satisfied: shellingham>=1.3.0 in /usr/local/lib/python3.10/dist-packages (from typer<0.13.0,>=0.12.5->docling==2.3.1->data-prep-toolkit-transforms[pdf2parquet]==0.2.2.dev2) (1.5.4)\n",
            "Requirement already satisfied: mdurl~=0.1 in /usr/local/lib/python3.10/dist-packages (from markdown-it-py>=2.2.0->rich<14.0.0,>=13.7.0->deepsearch-glm==0.26.1->data-prep-toolkit-transforms[pdf2parquet]==0.2.2.dev2) (0.1.2)\n",
            "Requirement already satisfied: six>=1.5 in /usr/local/lib/python3.10/dist-packages (from python-dateutil>=2.8.2->pandas<3.0.0,>=2.1.4->deepsearch-glm==0.26.1->data-prep-toolkit-transforms[pdf2parquet]==0.2.2.dev2) (1.16.0)\n",
            "Requirement already satisfied: MarkupSafe>=2.0 in /usr/local/lib/python3.10/dist-packages (from jinja2->torch<3.0.0,>=2.2.2->docling-ibm-models==2.0.3->data-prep-toolkit-transforms[pdf2parquet]==0.2.2.dev2) (3.0.2)\n",
            "Requirement already satisfied: imageio>=2.33 in /usr/local/lib/python3.10/dist-packages (from scikit-image->easyocr<2.0,>=1.7->docling==2.3.1->data-prep-toolkit-transforms[pdf2parquet]==0.2.2.dev2) (2.36.0)\n",
            "Requirement already satisfied: tifffile>=2022.8.12 in /usr/local/lib/python3.10/dist-packages (from scikit-image->easyocr<2.0,>=1.7->docling==2.3.1->data-prep-toolkit-transforms[pdf2parquet]==0.2.2.dev2) (2024.9.20)\n",
            "Requirement already satisfied: lazy-loader>=0.4 in /usr/local/lib/python3.10/dist-packages (from scikit-image->easyocr<2.0,>=1.7->docling==2.3.1->data-prep-toolkit-transforms[pdf2parquet]==0.2.2.dev2) (0.4)\n",
            "Using cached argparse-1.4.0-py2.py3-none-any.whl (23 kB)\n",
            "Installing collected packages: argparse\n",
            "Successfully installed argparse-1.4.0\n"
          ]
        },
        {
          "output_type": "display_data",
          "data": {
            "application/vnd.colab-display-data+json": {
              "pip_warning": {
                "packages": [
                  "argparse"
                ]
              },
              "id": "28b1fc731cd045ac860f106e7eb9cc07"
            }
          },
          "metadata": {}
        }
      ]
    },
    {
      "cell_type": "markdown",
      "source": [
        "## Step-1: pdf2parquet - Convert data from PDF to Parquet\n",
        "STAGE = 1\n",
        "input_folder = \"input\"\n",
        "output_folder =  \"s1-pdf2parquet\"\n",
        "print (f\"🏃🏼 STAGE-{STAGE}: Processing input='{input_folder}' --> output='{output_folder}'\")"
      ],
      "metadata": {
        "id": "NFyspsCqbpPT"
      }
    },
    {
      "cell_type": "code",
      "source": [
        "%%time\n",
        "\n",
        "import ast, os, sys\n",
        "\n",
        "from pdf2parquet_transform import (\n",
        "    pdf2parquet_contents_type_cli_param,\n",
        "    pdf2parquet_contents_types,\n",
        ")\n",
        "from data_processing.runtime.pure_python import PythonTransformLauncher\n",
        "from pdf2parquet_transform_python import Pdf2ParquetPythonTransformConfiguration\n",
        "\n",
        "from data_processing.utils import GB, ParamsUtils\n",
        "\n",
        "\n",
        "# create parameters\n",
        "local_conf = {\n",
        "    \"input_folder\": input_folder,\n",
        "    \"output_folder\": output_folder,\n",
        "}\n",
        "ingest_config = {\n",
        "    pdf2parquet_contents_type_cli_param: pdf2parquet_contents_types.JSON,\n",
        "}\n",
        "\n",
        "params = {\n",
        "    # Data access. Only required parameters are specified\n",
        "    \"data_local_config\": ParamsUtils.convert_to_ast(local_conf),\n",
        "    \"data_files_to_use\": ast.literal_eval(\"['.pdf']\"),\n",
        "}\n",
        "\n",
        "\n",
        "sys.argv = ParamsUtils.dict_to_req(d=(params | ingest_config))\n",
        "# create launcher\n",
        "launcher = PythonTransformLauncher(Pdf2ParquetPythonTransformConfiguration())\n",
        "# launch\n",
        "return_code = launcher.launch()\n",
        "\n",
        "if return_code == 0:\n",
        "    print (f\"✅ Stage:{STAGE} completed successfully\")\n",
        "else:\n",
        "    raise Exception (\"❌ Job failed\")"
      ],
      "metadata": {
        "id": "FTQsyadecfE4"
      },
      "execution_count": null,
      "outputs": []
    },
    {
      "cell_type": "markdown",
      "metadata": {
        "id": "orEOmrHIWjQ2"
      },
      "source": []
    }
  ],
  "metadata": {
    "language_info": {
      "name": "python"
    },
    "colab": {
      "provenance": []
    },
    "kernelspec": {
      "name": "python3",
      "display_name": "Python 3"
    }
  },
  "nbformat": 4,
  "nbformat_minor": 0
}
