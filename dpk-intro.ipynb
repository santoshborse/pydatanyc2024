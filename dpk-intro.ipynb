{
 "cells": [
  {
   "cell_type": "markdown",
   "metadata": {},
   "source": [
    "# Data Prep Kit Introduction\n",
    "\n",
    "\n",
    "## PDF Processing Pipeline\n",
    "\n",
    "This notebook will demonstrate processing PDFs\n",
    "\n",
    "PDFs ---> text ---> chunks --->   exact dedupe ---> fuzzy dedupe ---> embeddings\n",
    "\n",
    "Here is the workflow,\n",
    "\n",
    "![](https://raw.githubusercontent.com/sujee/data-prep-kit-examples/main/media/data-prep-kit-3-workflow.png)"
   ]
  },
  {
   "cell_type": "markdown",
   "metadata": {},
   "source": []
  }
 ],
 "metadata": {
  "language_info": {
   "name": "python"
  }
 },
 "nbformat": 4,
 "nbformat_minor": 2
}
